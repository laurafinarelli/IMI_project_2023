{
 "cells": [
  {
   "cell_type": "code",
   "execution_count": 1,
   "metadata": {},
   "outputs": [],
   "source": [
    "import pandas as pd\n",
    "import json\n",
    "import numpy as np\n",
    "import re\n",
    "import matplotlib.pyplot as plt\n",
    "import networkx as nx\n",
    "import os  "
   ]
  },
  {
   "cell_type": "code",
   "execution_count": 31,
   "metadata": {},
   "outputs": [],
   "source": [
    "df_logs_0 = pd.read_csv('C:/Users/laura.finarell/OneDrive - HESSO/Polarizzazione/Code_Laura/Reduced_logs/rts_cleaned_0.csv',usecols=['User_IP','Escenic_ID','Url','Topic','Access_date'])"
   ]
  },
  {
   "cell_type": "code",
   "execution_count": 33,
   "metadata": {},
   "outputs": [],
   "source": [
    "df_logs_1 = pd.read_csv('C:/Users/laura.finarell/OneDrive - HESSO/Polarizzazione/Code_Laura/Reduced_logs/rts_cleaned_1.csv',usecols=['User_IP','Escenic_ID','Url','Topic','Access_date'])"
   ]
  },
  {
   "cell_type": "code",
   "execution_count": 35,
   "metadata": {},
   "outputs": [],
   "source": [
    "df_logs_2 = pd.read_csv('C:/Users/laura.finarell/OneDrive - HESSO/Polarizzazione/Code_Laura/Reduced_logs/rts_cleaned_2.csv',usecols=['User_IP','Escenic_ID','Url','Topic','Access_date'])"
   ]
  },
  {
   "cell_type": "code",
   "execution_count": 36,
   "metadata": {},
   "outputs": [],
   "source": [
    "df_logs_3 = pd.read_csv('C:/Users/laura.finarell/OneDrive - HESSO/Polarizzazione/Code_Laura/Reduced_logs/rts_cleaned_3.csv',usecols=['User_IP','Escenic_ID','Url','Topic','Access_date'])"
   ]
  },
  {
   "cell_type": "code",
   "execution_count": 37,
   "metadata": {},
   "outputs": [],
   "source": [
    "df_logs_4 = pd.read_csv('C:/Users/laura.finarell/OneDrive - HESSO/Polarizzazione/Code_Laura/Reduced_logs/rts_cleaned_4.csv',usecols=['User_IP','Escenic_ID','Url','Topic','Access_date'])"
   ]
  },
  {
   "cell_type": "code",
   "execution_count": 16,
   "metadata": {},
   "outputs": [
    {
     "name": "stdout",
     "output_type": "stream",
     "text": [
      "(2789178, 4)\n",
      "(8996796, 4)\n",
      "(9422818, 4)\n",
      "(9599485, 4)\n",
      "(8904184, 4)\n"
     ]
    }
   ],
   "source": [
    "print(df_logs_0.shape)\n",
    "print(df_logs_1.shape)\n",
    "print(df_logs_2.shape)\n",
    "print(df_logs_3.shape)\n",
    "print(df_logs_4.shape)"
   ]
  },
  {
   "cell_type": "code",
   "execution_count": 38,
   "metadata": {},
   "outputs": [],
   "source": [
    "df_logs = pd.concat([df_logs_0,df_logs_1,df_logs_2,df_logs_3,df_logs_4], ignore_index=True, sort=False)"
   ]
  },
  {
   "cell_type": "code",
   "execution_count": 39,
   "metadata": {},
   "outputs": [],
   "source": [
    "#We raise an exception puttin NaN\n",
    "df_logs['Escenic_ID'] = pd.to_numeric(df_logs['Escenic_ID'],errors='coerce')"
   ]
  },
  {
   "cell_type": "code",
   "execution_count": 40,
   "metadata": {},
   "outputs": [],
   "source": [
    "df_logs.reset_index(inplace=True,drop=True)"
   ]
  },
  {
   "cell_type": "code",
   "execution_count": 41,
   "metadata": {},
   "outputs": [
    {
     "data": {
      "text/plain": [
       "(39712461, 5)"
      ]
     },
     "execution_count": 41,
     "metadata": {},
     "output_type": "execute_result"
    }
   ],
   "source": [
    "df_logs.shape"
   ]
  },
  {
   "cell_type": "code",
   "execution_count": 42,
   "metadata": {},
   "outputs": [
    {
     "data": {
      "text/html": [
       "<div>\n",
       "<style scoped>\n",
       "    .dataframe tbody tr th:only-of-type {\n",
       "        vertical-align: middle;\n",
       "    }\n",
       "\n",
       "    .dataframe tbody tr th {\n",
       "        vertical-align: top;\n",
       "    }\n",
       "\n",
       "    .dataframe thead th {\n",
       "        text-align: right;\n",
       "    }\n",
       "</style>\n",
       "<table border=\"1\" class=\"dataframe\">\n",
       "  <thead>\n",
       "    <tr style=\"text-align: right;\">\n",
       "      <th></th>\n",
       "      <th>User_IP</th>\n",
       "      <th>Url</th>\n",
       "      <th>Access_date</th>\n",
       "      <th>Topic</th>\n",
       "      <th>Escenic_ID</th>\n",
       "    </tr>\n",
       "  </thead>\n",
       "  <tbody>\n",
       "    <tr>\n",
       "      <th>0</th>\n",
       "      <td>5322f918316189dd00a7911876c42e39</td>\n",
       "      <td>programmes/tsr1/13781244-tsr1-journee-du-samed...</td>\n",
       "      <td>2023-03-25 11:13:19</td>\n",
       "      <td>other</td>\n",
       "      <td>NaN</td>\n",
       "    </tr>\n",
       "    <tr>\n",
       "      <th>1</th>\n",
       "      <td>5322f918316189dd00a7911876c42e39</td>\n",
       "      <td>audio-podcast/2023/audio/entretien-avec-sophie...</td>\n",
       "      <td>2023-03-25 11:13:19</td>\n",
       "      <td>other</td>\n",
       "      <td>NaN</td>\n",
       "    </tr>\n",
       "    <tr>\n",
       "      <th>2</th>\n",
       "      <td>5322f918316189dd00a7911876c42e39</td>\n",
       "      <td>audio-podcast/2023/audio/comment-germent-les-g...</td>\n",
       "      <td>2023-03-25 11:13:20</td>\n",
       "      <td>other</td>\n",
       "      <td>NaN</td>\n",
       "    </tr>\n",
       "    <tr>\n",
       "      <th>3</th>\n",
       "      <td>5322f918316189dd00a7911876c42e39</td>\n",
       "      <td>la-1ere/programmes/13869237-la-1ere-journee-du...</td>\n",
       "      <td>2023-03-25 11:13:20</td>\n",
       "      <td>other</td>\n",
       "      <td>NaN</td>\n",
       "    </tr>\n",
       "    <tr>\n",
       "      <th>4</th>\n",
       "      <td>5322f918316189dd00a7911876c42e39</td>\n",
       "      <td>audio-podcast/2023/audio/rtsreligion-la-nouvel...</td>\n",
       "      <td>2023-03-25 11:13:20</td>\n",
       "      <td>other</td>\n",
       "      <td>NaN</td>\n",
       "    </tr>\n",
       "    <tr>\n",
       "      <th>...</th>\n",
       "      <td>...</td>\n",
       "      <td>...</td>\n",
       "      <td>...</td>\n",
       "      <td>...</td>\n",
       "      <td>...</td>\n",
       "    </tr>\n",
       "    <tr>\n",
       "      <th>39712456</th>\n",
       "      <td>11844c2ee345956fc724f4d53957a391</td>\n",
       "      <td>archives/tv/information/3472653-zen-et-shinto....</td>\n",
       "      <td>2023-03-06 23:23:22</td>\n",
       "      <td>NaN</td>\n",
       "      <td>NaN</td>\n",
       "    </tr>\n",
       "    <tr>\n",
       "      <th>39712457</th>\n",
       "      <td>80c0e08fc0527f96ab6b1564d807499d</td>\n",
       "      <td>kids/vod/les-petits/11469716-saison-2-420---cl...</td>\n",
       "      <td>2023-03-06 23:23:22</td>\n",
       "      <td>NaN</td>\n",
       "      <td>NaN</td>\n",
       "    </tr>\n",
       "    <tr>\n",
       "      <th>39712458</th>\n",
       "      <td>1b33452ebc72bd1acbd04d992d428df6</td>\n",
       "      <td>archives/tv/culture/dimensions/11713213-la-tou...</td>\n",
       "      <td>2023-03-06 23:23:22</td>\n",
       "      <td>NaN</td>\n",
       "      <td>NaN</td>\n",
       "    </tr>\n",
       "    <tr>\n",
       "      <th>39712459</th>\n",
       "      <td>a640ccac63ba9de6d10145986fa9043a</td>\n",
       "      <td>info/suisse/13840146-le-conseil-federal-pourra...</td>\n",
       "      <td>2023-03-06 23:23:46</td>\n",
       "      <td>NaN</td>\n",
       "      <td>NaN</td>\n",
       "    </tr>\n",
       "    <tr>\n",
       "      <th>39712460</th>\n",
       "      <td>a31170df6094e7ab916c3be4f69b3ebc</td>\n",
       "      <td>play/v3/index.html</td>\n",
       "      <td>2023-03-06 23:23:50</td>\n",
       "      <td>NaN</td>\n",
       "      <td>NaN</td>\n",
       "    </tr>\n",
       "  </tbody>\n",
       "</table>\n",
       "<p>39712461 rows × 5 columns</p>\n",
       "</div>"
      ],
      "text/plain": [
       "                                   User_IP  \\\n",
       "0         5322f918316189dd00a7911876c42e39   \n",
       "1         5322f918316189dd00a7911876c42e39   \n",
       "2         5322f918316189dd00a7911876c42e39   \n",
       "3         5322f918316189dd00a7911876c42e39   \n",
       "4         5322f918316189dd00a7911876c42e39   \n",
       "...                                    ...   \n",
       "39712456  11844c2ee345956fc724f4d53957a391   \n",
       "39712457  80c0e08fc0527f96ab6b1564d807499d   \n",
       "39712458  1b33452ebc72bd1acbd04d992d428df6   \n",
       "39712459  a640ccac63ba9de6d10145986fa9043a   \n",
       "39712460  a31170df6094e7ab916c3be4f69b3ebc   \n",
       "\n",
       "                                                        Url  \\\n",
       "0         programmes/tsr1/13781244-tsr1-journee-du-samed...   \n",
       "1         audio-podcast/2023/audio/entretien-avec-sophie...   \n",
       "2         audio-podcast/2023/audio/comment-germent-les-g...   \n",
       "3         la-1ere/programmes/13869237-la-1ere-journee-du...   \n",
       "4         audio-podcast/2023/audio/rtsreligion-la-nouvel...   \n",
       "...                                                     ...   \n",
       "39712456  archives/tv/information/3472653-zen-et-shinto....   \n",
       "39712457  kids/vod/les-petits/11469716-saison-2-420---cl...   \n",
       "39712458  archives/tv/culture/dimensions/11713213-la-tou...   \n",
       "39712459  info/suisse/13840146-le-conseil-federal-pourra...   \n",
       "39712460                                 play/v3/index.html   \n",
       "\n",
       "                  Access_date  Topic  Escenic_ID  \n",
       "0         2023-03-25 11:13:19  other         NaN  \n",
       "1         2023-03-25 11:13:19  other         NaN  \n",
       "2         2023-03-25 11:13:20  other         NaN  \n",
       "3         2023-03-25 11:13:20  other         NaN  \n",
       "4         2023-03-25 11:13:20  other         NaN  \n",
       "...                       ...    ...         ...  \n",
       "39712456  2023-03-06 23:23:22    NaN         NaN  \n",
       "39712457  2023-03-06 23:23:22    NaN         NaN  \n",
       "39712458  2023-03-06 23:23:22    NaN         NaN  \n",
       "39712459  2023-03-06 23:23:46    NaN         NaN  \n",
       "39712460  2023-03-06 23:23:50    NaN         NaN  \n",
       "\n",
       "[39712461 rows x 5 columns]"
      ]
     },
     "execution_count": 42,
     "metadata": {},
     "output_type": "execute_result"
    }
   ],
   "source": [
    "df_logs"
   ]
  },
  {
   "cell_type": "code",
   "execution_count": 43,
   "metadata": {},
   "outputs": [],
   "source": [
    "df_logs.to_csv('logs_cleaned_all_with_TOPIC.csv', index=False)"
   ]
  },
  {
   "cell_type": "code",
   "execution_count": 24,
   "metadata": {},
   "outputs": [],
   "source": [
    "df_articles = pd.read_csv('C:/Users/laura.finarell/OneDrive - HESSO/Polarizzazione/Code_Laura/Articles/Articles_withCleanedUN.csv',usecols=['Escenic_ID','publishDate','iptcTags','entities','tail','userNeeds_clean'])"
   ]
  },
  {
   "cell_type": "code",
   "execution_count": 44,
   "metadata": {},
   "outputs": [
    {
     "data": {
      "text/html": [
       "<div>\n",
       "<style scoped>\n",
       "    .dataframe tbody tr th:only-of-type {\n",
       "        vertical-align: middle;\n",
       "    }\n",
       "\n",
       "    .dataframe tbody tr th {\n",
       "        vertical-align: top;\n",
       "    }\n",
       "\n",
       "    .dataframe thead th {\n",
       "        text-align: right;\n",
       "    }\n",
       "</style>\n",
       "<table border=\"1\" class=\"dataframe\">\n",
       "  <thead>\n",
       "    <tr style=\"text-align: right;\">\n",
       "      <th></th>\n",
       "      <th>Escenic_ID</th>\n",
       "      <th>publishDate</th>\n",
       "      <th>iptcTags</th>\n",
       "      <th>entities</th>\n",
       "      <th>tail</th>\n",
       "      <th>userNeeds_clean</th>\n",
       "    </tr>\n",
       "  </thead>\n",
       "  <tbody>\n",
       "    <tr>\n",
       "      <th>0</th>\n",
       "      <td>13824268</td>\n",
       "      <td>2023-03-01</td>\n",
       "      <td>[\"Secours d'urgence\", 'Accident ferroviaire', ...</td>\n",
       "      <td>['Grèce', 'train', 'décès', 'passager', 'hôpit...</td>\n",
       "      <td>court</td>\n",
       "      <td>UPDATE</td>\n",
       "    </tr>\n",
       "    <tr>\n",
       "      <th>1</th>\n",
       "      <td>13826493</td>\n",
       "      <td>2023-03-01</td>\n",
       "      <td>['Politique', 'Épidémie', 'Science et technolo...</td>\n",
       "      <td>['Chine', 'COVID-19', 'FBI', 'laboratoire', 'P...</td>\n",
       "      <td>long</td>\n",
       "      <td>ANALYSIS</td>\n",
       "    </tr>\n",
       "    <tr>\n",
       "      <th>2</th>\n",
       "      <td>13825888</td>\n",
       "      <td>2023-03-01</td>\n",
       "      <td>['Sport', 'Football']</td>\n",
       "      <td>['Suisse', 'Coupe de Suisse de football', 'can...</td>\n",
       "      <td>long</td>\n",
       "      <td>UPDATE</td>\n",
       "    </tr>\n",
       "    <tr>\n",
       "      <th>3</th>\n",
       "      <td>13826494</td>\n",
       "      <td>2023-03-01</td>\n",
       "      <td>['Église', 'Candidats', ' Groupe communautaire...</td>\n",
       "      <td>['Philippe Leuba', 'Église évangélique', 'EERV...</td>\n",
       "      <td>court</td>\n",
       "      <td>UPDATE</td>\n",
       "    </tr>\n",
       "    <tr>\n",
       "      <th>4</th>\n",
       "      <td>13826435</td>\n",
       "      <td>2023-03-01</td>\n",
       "      <td>['Sport', 'Ski', 'Saut à skis']</td>\n",
       "      <td>['Suisses', 'ski', 'Emely Torazza', 'championn...</td>\n",
       "      <td>court</td>\n",
       "      <td>UPDATE</td>\n",
       "    </tr>\n",
       "    <tr>\n",
       "      <th>...</th>\n",
       "      <td>...</td>\n",
       "      <td>...</td>\n",
       "      <td>...</td>\n",
       "      <td>...</td>\n",
       "      <td>...</td>\n",
       "      <td>...</td>\n",
       "    </tr>\n",
       "    <tr>\n",
       "      <th>3715</th>\n",
       "      <td>14059697</td>\n",
       "      <td>2023-05-30</td>\n",
       "      <td>['Environnement', 'Économie et finances', 'Cha...</td>\n",
       "      <td>['Suisse', 'canton du Jura', 'coopération', 'v...</td>\n",
       "      <td>court</td>\n",
       "      <td>UPDATE</td>\n",
       "    </tr>\n",
       "    <tr>\n",
       "      <th>3716</th>\n",
       "      <td>14059041</td>\n",
       "      <td>2023-05-30</td>\n",
       "      <td>['Sport', 'Tennis']</td>\n",
       "      <td>['Benoît Paire', 'Simona Waltert', 'Elina Svit...</td>\n",
       "      <td>court</td>\n",
       "      <td>UPDATE</td>\n",
       "    </tr>\n",
       "    <tr>\n",
       "      <th>3717</th>\n",
       "      <td>14060552</td>\n",
       "      <td>2023-05-30</td>\n",
       "      <td>[\"Exploration de l'Espace\", 'Science et techno...</td>\n",
       "      <td>['Chine', 'astronaute', 'victoire', 'Russie', ...</td>\n",
       "      <td>court</td>\n",
       "      <td>UPDATE</td>\n",
       "    </tr>\n",
       "    <tr>\n",
       "      <th>3718</th>\n",
       "      <td>14059376</td>\n",
       "      <td>2023-05-30</td>\n",
       "      <td>['Politique', 'Banque', 'Économie et finances'...</td>\n",
       "      <td>['Credit Suisse', \"commission d'enquête parlem...</td>\n",
       "      <td>court</td>\n",
       "      <td>UPDATE</td>\n",
       "    </tr>\n",
       "    <tr>\n",
       "      <th>3719</th>\n",
       "      <td>14060243</td>\n",
       "      <td>2023-05-30</td>\n",
       "      <td>['Politique', 'Gouvernement', 'Défense', 'Équi...</td>\n",
       "      <td>['militaire', 'Corée du Nord', 'satellite', 'J...</td>\n",
       "      <td>court</td>\n",
       "      <td>UPDATE</td>\n",
       "    </tr>\n",
       "  </tbody>\n",
       "</table>\n",
       "<p>3720 rows × 6 columns</p>\n",
       "</div>"
      ],
      "text/plain": [
       "      Escenic_ID publishDate  \\\n",
       "0       13824268  2023-03-01   \n",
       "1       13826493  2023-03-01   \n",
       "2       13825888  2023-03-01   \n",
       "3       13826494  2023-03-01   \n",
       "4       13826435  2023-03-01   \n",
       "...          ...         ...   \n",
       "3715    14059697  2023-05-30   \n",
       "3716    14059041  2023-05-30   \n",
       "3717    14060552  2023-05-30   \n",
       "3718    14059376  2023-05-30   \n",
       "3719    14060243  2023-05-30   \n",
       "\n",
       "                                               iptcTags  \\\n",
       "0     [\"Secours d'urgence\", 'Accident ferroviaire', ...   \n",
       "1     ['Politique', 'Épidémie', 'Science et technolo...   \n",
       "2                                 ['Sport', 'Football']   \n",
       "3     ['Église', 'Candidats', ' Groupe communautaire...   \n",
       "4                       ['Sport', 'Ski', 'Saut à skis']   \n",
       "...                                                 ...   \n",
       "3715  ['Environnement', 'Économie et finances', 'Cha...   \n",
       "3716                                ['Sport', 'Tennis']   \n",
       "3717  [\"Exploration de l'Espace\", 'Science et techno...   \n",
       "3718  ['Politique', 'Banque', 'Économie et finances'...   \n",
       "3719  ['Politique', 'Gouvernement', 'Défense', 'Équi...   \n",
       "\n",
       "                                               entities   tail userNeeds_clean  \n",
       "0     ['Grèce', 'train', 'décès', 'passager', 'hôpit...  court          UPDATE  \n",
       "1     ['Chine', 'COVID-19', 'FBI', 'laboratoire', 'P...   long        ANALYSIS  \n",
       "2     ['Suisse', 'Coupe de Suisse de football', 'can...   long          UPDATE  \n",
       "3     ['Philippe Leuba', 'Église évangélique', 'EERV...  court          UPDATE  \n",
       "4     ['Suisses', 'ski', 'Emely Torazza', 'championn...  court          UPDATE  \n",
       "...                                                 ...    ...             ...  \n",
       "3715  ['Suisse', 'canton du Jura', 'coopération', 'v...  court          UPDATE  \n",
       "3716  ['Benoît Paire', 'Simona Waltert', 'Elina Svit...  court          UPDATE  \n",
       "3717  ['Chine', 'astronaute', 'victoire', 'Russie', ...  court          UPDATE  \n",
       "3718  ['Credit Suisse', \"commission d'enquête parlem...  court          UPDATE  \n",
       "3719  ['militaire', 'Corée du Nord', 'satellite', 'J...  court          UPDATE  \n",
       "\n",
       "[3720 rows x 6 columns]"
      ]
     },
     "execution_count": 44,
     "metadata": {},
     "output_type": "execute_result"
    }
   ],
   "source": [
    "df_articles"
   ]
  },
  {
   "cell_type": "code",
   "execution_count": 6,
   "metadata": {},
   "outputs": [
    {
     "data": {
      "text/plain": [
       "escenicID       int64\n",
       "publishDate    object\n",
       "iptcTags       object\n",
       "entities       object\n",
       "dtype: object"
      ]
     },
     "execution_count": 6,
     "metadata": {},
     "output_type": "execute_result"
    }
   ],
   "source": [
    "df_articles.dtypes"
   ]
  },
  {
   "cell_type": "code",
   "execution_count": 45,
   "metadata": {},
   "outputs": [],
   "source": [
    "df_complete = pd.merge(df_logs,df_articles,on='Escenic_ID')"
   ]
  },
  {
   "cell_type": "code",
   "execution_count": 47,
   "metadata": {},
   "outputs": [],
   "source": [
    "df_complete.drop(['Url','entities','iptcTags','tail'],axis =1,inplace=True)"
   ]
  },
  {
   "cell_type": "code",
   "execution_count": 48,
   "metadata": {},
   "outputs": [
    {
     "data": {
      "text/html": [
       "<div>\n",
       "<style scoped>\n",
       "    .dataframe tbody tr th:only-of-type {\n",
       "        vertical-align: middle;\n",
       "    }\n",
       "\n",
       "    .dataframe tbody tr th {\n",
       "        vertical-align: top;\n",
       "    }\n",
       "\n",
       "    .dataframe thead th {\n",
       "        text-align: right;\n",
       "    }\n",
       "</style>\n",
       "<table border=\"1\" class=\"dataframe\">\n",
       "  <thead>\n",
       "    <tr style=\"text-align: right;\">\n",
       "      <th></th>\n",
       "      <th>User_IP</th>\n",
       "      <th>Access_date</th>\n",
       "      <th>Topic</th>\n",
       "      <th>Escenic_ID</th>\n",
       "      <th>publishDate</th>\n",
       "      <th>userNeeds_clean</th>\n",
       "    </tr>\n",
       "  </thead>\n",
       "  <tbody>\n",
       "    <tr>\n",
       "      <th>0</th>\n",
       "      <td>086754417aefc1fffa19d36df1f6835d</td>\n",
       "      <td>2023-03-25 11:13:22</td>\n",
       "      <td>culture</td>\n",
       "      <td>13891031.0</td>\n",
       "      <td>2023-03-24</td>\n",
       "      <td>UPDATE</td>\n",
       "    </tr>\n",
       "    <tr>\n",
       "      <th>1</th>\n",
       "      <td>92af9d9e6b00d4b8e734e25d8fcbdd20</td>\n",
       "      <td>2023-03-25 11:09:22</td>\n",
       "      <td>culture</td>\n",
       "      <td>13891031.0</td>\n",
       "      <td>2023-03-24</td>\n",
       "      <td>UPDATE</td>\n",
       "    </tr>\n",
       "    <tr>\n",
       "      <th>2</th>\n",
       "      <td>094ccfd5d2215a334301a2933e5a33df</td>\n",
       "      <td>2023-03-25 11:11:49</td>\n",
       "      <td>culture</td>\n",
       "      <td>13891031.0</td>\n",
       "      <td>2023-03-24</td>\n",
       "      <td>UPDATE</td>\n",
       "    </tr>\n",
       "    <tr>\n",
       "      <th>3</th>\n",
       "      <td>dd0ded0ab2d1dc8fc5d85f159cacf515</td>\n",
       "      <td>2023-03-25 11:55:49</td>\n",
       "      <td>culture</td>\n",
       "      <td>13891031.0</td>\n",
       "      <td>2023-03-24</td>\n",
       "      <td>UPDATE</td>\n",
       "    </tr>\n",
       "    <tr>\n",
       "      <th>4</th>\n",
       "      <td>6c9892b8c4d126b6da8d1e96752a22ac</td>\n",
       "      <td>2023-03-25 11:53:42</td>\n",
       "      <td>culture</td>\n",
       "      <td>13891031.0</td>\n",
       "      <td>2023-03-24</td>\n",
       "      <td>UPDATE</td>\n",
       "    </tr>\n",
       "    <tr>\n",
       "      <th>...</th>\n",
       "      <td>...</td>\n",
       "      <td>...</td>\n",
       "      <td>...</td>\n",
       "      <td>...</td>\n",
       "      <td>...</td>\n",
       "      <td>...</td>\n",
       "    </tr>\n",
       "    <tr>\n",
       "      <th>460545</th>\n",
       "      <td>15e2603af39507b233cb8b793f8a7afe</td>\n",
       "      <td>2023-03-27 10:43:04</td>\n",
       "      <td>sport</td>\n",
       "      <td>13895686.0</td>\n",
       "      <td>2023-03-27</td>\n",
       "      <td>UPDATE</td>\n",
       "    </tr>\n",
       "    <tr>\n",
       "      <th>460546</th>\n",
       "      <td>e49bba1adc066b9b04cb224ae8592037</td>\n",
       "      <td>2023-03-27 10:41:27</td>\n",
       "      <td>sport</td>\n",
       "      <td>13895686.0</td>\n",
       "      <td>2023-03-27</td>\n",
       "      <td>UPDATE</td>\n",
       "    </tr>\n",
       "    <tr>\n",
       "      <th>460547</th>\n",
       "      <td>e49bba1adc066b9b04cb224ae8592037</td>\n",
       "      <td>2023-03-27 10:41:27</td>\n",
       "      <td>sport</td>\n",
       "      <td>13895686.0</td>\n",
       "      <td>2023-03-27</td>\n",
       "      <td>UPDATE</td>\n",
       "    </tr>\n",
       "    <tr>\n",
       "      <th>460548</th>\n",
       "      <td>87ac8a8ce623da79eb458fb92193f7e5</td>\n",
       "      <td>2023-03-27 10:47:29</td>\n",
       "      <td>sport</td>\n",
       "      <td>13895686.0</td>\n",
       "      <td>2023-03-27</td>\n",
       "      <td>UPDATE</td>\n",
       "    </tr>\n",
       "    <tr>\n",
       "      <th>460549</th>\n",
       "      <td>e2c57a68021224a344291a4a9f265602</td>\n",
       "      <td>2023-03-27 10:47:30</td>\n",
       "      <td>sport</td>\n",
       "      <td>13895686.0</td>\n",
       "      <td>2023-03-27</td>\n",
       "      <td>UPDATE</td>\n",
       "    </tr>\n",
       "  </tbody>\n",
       "</table>\n",
       "<p>460550 rows × 6 columns</p>\n",
       "</div>"
      ],
      "text/plain": [
       "                                 User_IP          Access_date    Topic  \\\n",
       "0       086754417aefc1fffa19d36df1f6835d  2023-03-25 11:13:22  culture   \n",
       "1       92af9d9e6b00d4b8e734e25d8fcbdd20  2023-03-25 11:09:22  culture   \n",
       "2       094ccfd5d2215a334301a2933e5a33df  2023-03-25 11:11:49  culture   \n",
       "3       dd0ded0ab2d1dc8fc5d85f159cacf515  2023-03-25 11:55:49  culture   \n",
       "4       6c9892b8c4d126b6da8d1e96752a22ac  2023-03-25 11:53:42  culture   \n",
       "...                                  ...                  ...      ...   \n",
       "460545  15e2603af39507b233cb8b793f8a7afe  2023-03-27 10:43:04    sport   \n",
       "460546  e49bba1adc066b9b04cb224ae8592037  2023-03-27 10:41:27    sport   \n",
       "460547  e49bba1adc066b9b04cb224ae8592037  2023-03-27 10:41:27    sport   \n",
       "460548  87ac8a8ce623da79eb458fb92193f7e5  2023-03-27 10:47:29    sport   \n",
       "460549  e2c57a68021224a344291a4a9f265602  2023-03-27 10:47:30    sport   \n",
       "\n",
       "        Escenic_ID publishDate userNeeds_clean  \n",
       "0       13891031.0  2023-03-24          UPDATE  \n",
       "1       13891031.0  2023-03-24          UPDATE  \n",
       "2       13891031.0  2023-03-24          UPDATE  \n",
       "3       13891031.0  2023-03-24          UPDATE  \n",
       "4       13891031.0  2023-03-24          UPDATE  \n",
       "...            ...         ...             ...  \n",
       "460545  13895686.0  2023-03-27          UPDATE  \n",
       "460546  13895686.0  2023-03-27          UPDATE  \n",
       "460547  13895686.0  2023-03-27          UPDATE  \n",
       "460548  13895686.0  2023-03-27          UPDATE  \n",
       "460549  13895686.0  2023-03-27          UPDATE  \n",
       "\n",
       "[460550 rows x 6 columns]"
      ]
     },
     "execution_count": 48,
     "metadata": {},
     "output_type": "execute_result"
    }
   ],
   "source": [
    "df_complete"
   ]
  },
  {
   "cell_type": "code",
   "execution_count": 51,
   "metadata": {},
   "outputs": [
    {
     "name": "stdout",
     "output_type": "stream",
     "text": [
      "Repetitions found for different topics with the same Escenic ID:\n",
      "Escenic ID: 13828015.0, Topics: economie, monde\n",
      "Escenic ID: 13836586.0, Topics: sciences-tech, monde\n",
      "Escenic ID: 13844925.0, Topics: sciences-tech, monde\n",
      "Escenic ID: 13874379.0, Topics: suisse, sport\n",
      "Escenic ID: 13880961.0, Topics: culture, monde\n",
      "Escenic ID: 13884009.0, Topics: sciences-tech, suisse\n"
     ]
    }
   ],
   "source": [
    "## Check if the association topic-escenic_id is unique\n",
    "unique_topics_by_id = df_complete.groupby('Escenic_ID')['Topic'].unique()\n",
    "\n",
    "# Check if any group has more than one unique topic\n",
    "repetitions = unique_topics_by_id[unique_topics_by_id.apply(len) > 1]\n",
    "\n",
    "if not repetitions.empty:\n",
    "    print(\"Repetitions found for different topics with the same Escenic ID:\")\n",
    "    for escenic_id, topics in repetitions.items():\n",
    "        print(f\"Escenic ID: {escenic_id}, Topics: {', '.join(topics)}\")\n",
    "else:\n",
    "    print(\"No repetitions found for different topics with the same Escenic ID.\")"
   ]
  },
  {
   "cell_type": "code",
   "execution_count": 67,
   "metadata": {},
   "outputs": [
    {
     "data": {
      "text/plain": [
       "(460550, 6)"
      ]
     },
     "execution_count": 67,
     "metadata": {},
     "output_type": "execute_result"
    }
   ],
   "source": [
    "df_complete.shape"
   ]
  },
  {
   "cell_type": "code",
   "execution_count": 68,
   "metadata": {},
   "outputs": [
    {
     "data": {
      "text/html": [
       "<div>\n",
       "<style scoped>\n",
       "    .dataframe tbody tr th:only-of-type {\n",
       "        vertical-align: middle;\n",
       "    }\n",
       "\n",
       "    .dataframe tbody tr th {\n",
       "        vertical-align: top;\n",
       "    }\n",
       "\n",
       "    .dataframe thead th {\n",
       "        text-align: right;\n",
       "    }\n",
       "</style>\n",
       "<table border=\"1\" class=\"dataframe\">\n",
       "  <thead>\n",
       "    <tr style=\"text-align: right;\">\n",
       "      <th></th>\n",
       "      <th>User_IP</th>\n",
       "      <th>Access_date</th>\n",
       "      <th>Topic</th>\n",
       "      <th>Escenic_ID</th>\n",
       "      <th>publishDate</th>\n",
       "      <th>userNeeds_clean</th>\n",
       "    </tr>\n",
       "  </thead>\n",
       "  <tbody>\n",
       "    <tr>\n",
       "      <th>0</th>\n",
       "      <td>086754417aefc1fffa19d36df1f6835d</td>\n",
       "      <td>2023-03-25 11:13:22</td>\n",
       "      <td>culture</td>\n",
       "      <td>13891031.0</td>\n",
       "      <td>2023-03-24</td>\n",
       "      <td>UPDATE</td>\n",
       "    </tr>\n",
       "    <tr>\n",
       "      <th>1</th>\n",
       "      <td>92af9d9e6b00d4b8e734e25d8fcbdd20</td>\n",
       "      <td>2023-03-25 11:09:22</td>\n",
       "      <td>culture</td>\n",
       "      <td>13891031.0</td>\n",
       "      <td>2023-03-24</td>\n",
       "      <td>UPDATE</td>\n",
       "    </tr>\n",
       "    <tr>\n",
       "      <th>2</th>\n",
       "      <td>094ccfd5d2215a334301a2933e5a33df</td>\n",
       "      <td>2023-03-25 11:11:49</td>\n",
       "      <td>culture</td>\n",
       "      <td>13891031.0</td>\n",
       "      <td>2023-03-24</td>\n",
       "      <td>UPDATE</td>\n",
       "    </tr>\n",
       "    <tr>\n",
       "      <th>3</th>\n",
       "      <td>dd0ded0ab2d1dc8fc5d85f159cacf515</td>\n",
       "      <td>2023-03-25 11:55:49</td>\n",
       "      <td>culture</td>\n",
       "      <td>13891031.0</td>\n",
       "      <td>2023-03-24</td>\n",
       "      <td>UPDATE</td>\n",
       "    </tr>\n",
       "    <tr>\n",
       "      <th>4</th>\n",
       "      <td>6c9892b8c4d126b6da8d1e96752a22ac</td>\n",
       "      <td>2023-03-25 11:53:42</td>\n",
       "      <td>culture</td>\n",
       "      <td>13891031.0</td>\n",
       "      <td>2023-03-24</td>\n",
       "      <td>UPDATE</td>\n",
       "    </tr>\n",
       "    <tr>\n",
       "      <th>...</th>\n",
       "      <td>...</td>\n",
       "      <td>...</td>\n",
       "      <td>...</td>\n",
       "      <td>...</td>\n",
       "      <td>...</td>\n",
       "      <td>...</td>\n",
       "    </tr>\n",
       "    <tr>\n",
       "      <th>460545</th>\n",
       "      <td>15e2603af39507b233cb8b793f8a7afe</td>\n",
       "      <td>2023-03-27 10:43:04</td>\n",
       "      <td>sport</td>\n",
       "      <td>13895686.0</td>\n",
       "      <td>2023-03-27</td>\n",
       "      <td>UPDATE</td>\n",
       "    </tr>\n",
       "    <tr>\n",
       "      <th>460546</th>\n",
       "      <td>e49bba1adc066b9b04cb224ae8592037</td>\n",
       "      <td>2023-03-27 10:41:27</td>\n",
       "      <td>sport</td>\n",
       "      <td>13895686.0</td>\n",
       "      <td>2023-03-27</td>\n",
       "      <td>UPDATE</td>\n",
       "    </tr>\n",
       "    <tr>\n",
       "      <th>460547</th>\n",
       "      <td>e49bba1adc066b9b04cb224ae8592037</td>\n",
       "      <td>2023-03-27 10:41:27</td>\n",
       "      <td>sport</td>\n",
       "      <td>13895686.0</td>\n",
       "      <td>2023-03-27</td>\n",
       "      <td>UPDATE</td>\n",
       "    </tr>\n",
       "    <tr>\n",
       "      <th>460548</th>\n",
       "      <td>87ac8a8ce623da79eb458fb92193f7e5</td>\n",
       "      <td>2023-03-27 10:47:29</td>\n",
       "      <td>sport</td>\n",
       "      <td>13895686.0</td>\n",
       "      <td>2023-03-27</td>\n",
       "      <td>UPDATE</td>\n",
       "    </tr>\n",
       "    <tr>\n",
       "      <th>460549</th>\n",
       "      <td>e2c57a68021224a344291a4a9f265602</td>\n",
       "      <td>2023-03-27 10:47:30</td>\n",
       "      <td>sport</td>\n",
       "      <td>13895686.0</td>\n",
       "      <td>2023-03-27</td>\n",
       "      <td>UPDATE</td>\n",
       "    </tr>\n",
       "  </tbody>\n",
       "</table>\n",
       "<p>460550 rows × 6 columns</p>\n",
       "</div>"
      ],
      "text/plain": [
       "                                 User_IP          Access_date    Topic  \\\n",
       "0       086754417aefc1fffa19d36df1f6835d  2023-03-25 11:13:22  culture   \n",
       "1       92af9d9e6b00d4b8e734e25d8fcbdd20  2023-03-25 11:09:22  culture   \n",
       "2       094ccfd5d2215a334301a2933e5a33df  2023-03-25 11:11:49  culture   \n",
       "3       dd0ded0ab2d1dc8fc5d85f159cacf515  2023-03-25 11:55:49  culture   \n",
       "4       6c9892b8c4d126b6da8d1e96752a22ac  2023-03-25 11:53:42  culture   \n",
       "...                                  ...                  ...      ...   \n",
       "460545  15e2603af39507b233cb8b793f8a7afe  2023-03-27 10:43:04    sport   \n",
       "460546  e49bba1adc066b9b04cb224ae8592037  2023-03-27 10:41:27    sport   \n",
       "460547  e49bba1adc066b9b04cb224ae8592037  2023-03-27 10:41:27    sport   \n",
       "460548  87ac8a8ce623da79eb458fb92193f7e5  2023-03-27 10:47:29    sport   \n",
       "460549  e2c57a68021224a344291a4a9f265602  2023-03-27 10:47:30    sport   \n",
       "\n",
       "        Escenic_ID publishDate userNeeds_clean  \n",
       "0       13891031.0  2023-03-24          UPDATE  \n",
       "1       13891031.0  2023-03-24          UPDATE  \n",
       "2       13891031.0  2023-03-24          UPDATE  \n",
       "3       13891031.0  2023-03-24          UPDATE  \n",
       "4       13891031.0  2023-03-24          UPDATE  \n",
       "...            ...         ...             ...  \n",
       "460545  13895686.0  2023-03-27          UPDATE  \n",
       "460546  13895686.0  2023-03-27          UPDATE  \n",
       "460547  13895686.0  2023-03-27          UPDATE  \n",
       "460548  13895686.0  2023-03-27          UPDATE  \n",
       "460549  13895686.0  2023-03-27          UPDATE  \n",
       "\n",
       "[460550 rows x 6 columns]"
      ]
     },
     "execution_count": 68,
     "metadata": {},
     "output_type": "execute_result"
    }
   ],
   "source": [
    "df_complete"
   ]
  },
  {
   "cell_type": "code",
   "execution_count": 62,
   "metadata": {},
   "outputs": [
    {
     "data": {
      "text/plain": [
       "894"
      ]
     },
     "execution_count": 62,
     "metadata": {},
     "output_type": "execute_result"
    }
   ],
   "source": [
    "df_complete['Escenic_ID'].unique().size"
   ]
  },
  {
   "cell_type": "code",
   "execution_count": 63,
   "metadata": {},
   "outputs": [],
   "source": [
    "#We choose the most frequent\n",
    "most_frequent_topic_by_id = df_complete.groupby('Escenic_ID')['Topic'].agg(lambda x: x.mode()[0])\n",
    "# Create a dictionary mapping Escenic IDs to their most frequent topic\n",
    "id_to_most_frequent_topic = most_frequent_topic_by_id.to_dict()\n",
    "df_complete['Topic']=df_complete['Escenic_ID'].map(id_to_most_frequent_topic)\n"
   ]
  },
  {
   "cell_type": "code",
   "execution_count": 65,
   "metadata": {},
   "outputs": [
    {
     "name": "stdout",
     "output_type": "stream",
     "text": [
      "No repetitions found for different topics with the same Escenic ID.\n"
     ]
    }
   ],
   "source": [
    "unique_topics_by_id = df_complete.groupby('Escenic_ID')['Topic'].unique()\n",
    "\n",
    "# Check if any group has more than one unique topic\n",
    "repetitions = unique_topics_by_id[unique_topics_by_id.apply(len) > 1]\n",
    "\n",
    "if not repetitions.empty:\n",
    "    print(\"Repetitions found for different topics with the same Escenic ID:\")\n",
    "    for escenic_id, topics in repetitions.items():\n",
    "        print(f\"Escenic ID: {escenic_id}, Topics: {', '.join(topics)}\")\n",
    "else:\n",
    "    print(\"No repetitions found for different topics with the same Escenic ID.\")"
   ]
  },
  {
   "cell_type": "code",
   "execution_count": 69,
   "metadata": {},
   "outputs": [],
   "source": [
    "df_complete.to_csv('Dataset_User_Articles_all.csv')"
   ]
  },
  {
   "cell_type": "markdown",
   "metadata": {},
   "source": [
    "## We need to split the iptcTags"
   ]
  },
  {
   "cell_type": "code",
   "execution_count": 10,
   "metadata": {},
   "outputs": [
    {
     "data": {
      "text/plain": [
       "[\"'Arts et divertissement', 'Cinéma', 'Culture', 'Prix et récompenses'\"]"
      ]
     },
     "execution_count": 10,
     "metadata": {},
     "output_type": "execute_result"
    }
   ],
   "source": [
    "df_complete.loc[0,'iptcTags'].replace('[','').replace(']','').split('\", \"')"
   ]
  },
  {
   "cell_type": "code",
   "execution_count": 11,
   "metadata": {},
   "outputs": [
    {
     "data": {
      "text/plain": [
       "0         ['Arts et divertissement', 'Cinéma', 'Culture'...\n",
       "1         ['Arts et divertissement', 'Cinéma', 'Culture'...\n",
       "2         ['Arts et divertissement', 'Cinéma', 'Culture'...\n",
       "3         ['Arts et divertissement', 'Cinéma', 'Culture'...\n",
       "4         ['Arts et divertissement', 'Cinéma', 'Culture'...\n",
       "                                ...                        \n",
       "416708            ['Sport', 'Snowboard', 'Exploit sportif']\n",
       "416709            ['Sport', 'Snowboard', 'Exploit sportif']\n",
       "416710    ['Politique', 'Éducation', 'Gouvernement', 'Éc...\n",
       "416711    ['Politique', 'Éducation', 'Gouvernement', 'Éc...\n",
       "416712    ['Politique', 'Gouvernement', 'Cultes et secte...\n",
       "Name: iptcTags, Length: 416713, dtype: object"
      ]
     },
     "execution_count": 11,
     "metadata": {},
     "output_type": "execute_result"
    }
   ],
   "source": [
    "df_complete['iptcTags']#.to_list()"
   ]
  },
  {
   "cell_type": "code",
   "execution_count": 12,
   "metadata": {},
   "outputs": [],
   "source": [
    "df_complete['iptcTags'] = df_complete['iptcTags'].str.replace('[','')\n",
    "df_complete['iptcTags'] = df_complete['iptcTags'].str.replace(']','')"
   ]
  },
  {
   "cell_type": "code",
   "execution_count": 13,
   "metadata": {},
   "outputs": [
    {
     "data": {
      "text/html": [
       "<div>\n",
       "<style scoped>\n",
       "    .dataframe tbody tr th:only-of-type {\n",
       "        vertical-align: middle;\n",
       "    }\n",
       "\n",
       "    .dataframe tbody tr th {\n",
       "        vertical-align: top;\n",
       "    }\n",
       "\n",
       "    .dataframe thead th {\n",
       "        text-align: right;\n",
       "    }\n",
       "</style>\n",
       "<table border=\"1\" class=\"dataframe\">\n",
       "  <thead>\n",
       "    <tr style=\"text-align: right;\">\n",
       "      <th></th>\n",
       "      <th>0</th>\n",
       "      <th>1</th>\n",
       "      <th>2</th>\n",
       "      <th>3</th>\n",
       "      <th>4</th>\n",
       "      <th>5</th>\n",
       "      <th>6</th>\n",
       "      <th>7</th>\n",
       "      <th>8</th>\n",
       "      <th>9</th>\n",
       "      <th>10</th>\n",
       "      <th>11</th>\n",
       "      <th>12</th>\n",
       "      <th>13</th>\n",
       "      <th>14</th>\n",
       "      <th>15</th>\n",
       "      <th>16</th>\n",
       "      <th>17</th>\n",
       "      <th>18</th>\n",
       "    </tr>\n",
       "  </thead>\n",
       "  <tbody>\n",
       "    <tr>\n",
       "      <th>0</th>\n",
       "      <td>'Arts et divertissement'</td>\n",
       "      <td>'Cinéma'</td>\n",
       "      <td>'Culture'</td>\n",
       "      <td>'Prix et récompenses'</td>\n",
       "      <td>None</td>\n",
       "      <td>None</td>\n",
       "      <td>None</td>\n",
       "      <td>None</td>\n",
       "      <td>None</td>\n",
       "      <td>None</td>\n",
       "      <td>None</td>\n",
       "      <td>None</td>\n",
       "      <td>None</td>\n",
       "      <td>None</td>\n",
       "      <td>None</td>\n",
       "      <td>None</td>\n",
       "      <td>None</td>\n",
       "      <td>None</td>\n",
       "      <td>None</td>\n",
       "    </tr>\n",
       "    <tr>\n",
       "      <th>1</th>\n",
       "      <td>'Arts et divertissement'</td>\n",
       "      <td>'Cinéma'</td>\n",
       "      <td>'Culture'</td>\n",
       "      <td>'Prix et récompenses'</td>\n",
       "      <td>None</td>\n",
       "      <td>None</td>\n",
       "      <td>None</td>\n",
       "      <td>None</td>\n",
       "      <td>None</td>\n",
       "      <td>None</td>\n",
       "      <td>None</td>\n",
       "      <td>None</td>\n",
       "      <td>None</td>\n",
       "      <td>None</td>\n",
       "      <td>None</td>\n",
       "      <td>None</td>\n",
       "      <td>None</td>\n",
       "      <td>None</td>\n",
       "      <td>None</td>\n",
       "    </tr>\n",
       "    <tr>\n",
       "      <th>2</th>\n",
       "      <td>'Arts et divertissement'</td>\n",
       "      <td>'Cinéma'</td>\n",
       "      <td>'Culture'</td>\n",
       "      <td>'Prix et récompenses'</td>\n",
       "      <td>None</td>\n",
       "      <td>None</td>\n",
       "      <td>None</td>\n",
       "      <td>None</td>\n",
       "      <td>None</td>\n",
       "      <td>None</td>\n",
       "      <td>None</td>\n",
       "      <td>None</td>\n",
       "      <td>None</td>\n",
       "      <td>None</td>\n",
       "      <td>None</td>\n",
       "      <td>None</td>\n",
       "      <td>None</td>\n",
       "      <td>None</td>\n",
       "      <td>None</td>\n",
       "    </tr>\n",
       "    <tr>\n",
       "      <th>3</th>\n",
       "      <td>'Arts et divertissement'</td>\n",
       "      <td>'Cinéma'</td>\n",
       "      <td>'Culture'</td>\n",
       "      <td>'Prix et récompenses'</td>\n",
       "      <td>None</td>\n",
       "      <td>None</td>\n",
       "      <td>None</td>\n",
       "      <td>None</td>\n",
       "      <td>None</td>\n",
       "      <td>None</td>\n",
       "      <td>None</td>\n",
       "      <td>None</td>\n",
       "      <td>None</td>\n",
       "      <td>None</td>\n",
       "      <td>None</td>\n",
       "      <td>None</td>\n",
       "      <td>None</td>\n",
       "      <td>None</td>\n",
       "      <td>None</td>\n",
       "    </tr>\n",
       "    <tr>\n",
       "      <th>4</th>\n",
       "      <td>'Arts et divertissement'</td>\n",
       "      <td>'Cinéma'</td>\n",
       "      <td>'Culture'</td>\n",
       "      <td>'Prix et récompenses'</td>\n",
       "      <td>None</td>\n",
       "      <td>None</td>\n",
       "      <td>None</td>\n",
       "      <td>None</td>\n",
       "      <td>None</td>\n",
       "      <td>None</td>\n",
       "      <td>None</td>\n",
       "      <td>None</td>\n",
       "      <td>None</td>\n",
       "      <td>None</td>\n",
       "      <td>None</td>\n",
       "      <td>None</td>\n",
       "      <td>None</td>\n",
       "      <td>None</td>\n",
       "      <td>None</td>\n",
       "    </tr>\n",
       "    <tr>\n",
       "      <th>...</th>\n",
       "      <td>...</td>\n",
       "      <td>...</td>\n",
       "      <td>...</td>\n",
       "      <td>...</td>\n",
       "      <td>...</td>\n",
       "      <td>...</td>\n",
       "      <td>...</td>\n",
       "      <td>...</td>\n",
       "      <td>...</td>\n",
       "      <td>...</td>\n",
       "      <td>...</td>\n",
       "      <td>...</td>\n",
       "      <td>...</td>\n",
       "      <td>...</td>\n",
       "      <td>...</td>\n",
       "      <td>...</td>\n",
       "      <td>...</td>\n",
       "      <td>...</td>\n",
       "      <td>...</td>\n",
       "    </tr>\n",
       "    <tr>\n",
       "      <th>416708</th>\n",
       "      <td>'Sport'</td>\n",
       "      <td>'Snowboard'</td>\n",
       "      <td>'Exploit sportif'</td>\n",
       "      <td>None</td>\n",
       "      <td>None</td>\n",
       "      <td>None</td>\n",
       "      <td>None</td>\n",
       "      <td>None</td>\n",
       "      <td>None</td>\n",
       "      <td>None</td>\n",
       "      <td>None</td>\n",
       "      <td>None</td>\n",
       "      <td>None</td>\n",
       "      <td>None</td>\n",
       "      <td>None</td>\n",
       "      <td>None</td>\n",
       "      <td>None</td>\n",
       "      <td>None</td>\n",
       "      <td>None</td>\n",
       "    </tr>\n",
       "    <tr>\n",
       "      <th>416709</th>\n",
       "      <td>'Sport'</td>\n",
       "      <td>'Snowboard'</td>\n",
       "      <td>'Exploit sportif'</td>\n",
       "      <td>None</td>\n",
       "      <td>None</td>\n",
       "      <td>None</td>\n",
       "      <td>None</td>\n",
       "      <td>None</td>\n",
       "      <td>None</td>\n",
       "      <td>None</td>\n",
       "      <td>None</td>\n",
       "      <td>None</td>\n",
       "      <td>None</td>\n",
       "      <td>None</td>\n",
       "      <td>None</td>\n",
       "      <td>None</td>\n",
       "      <td>None</td>\n",
       "      <td>None</td>\n",
       "      <td>None</td>\n",
       "    </tr>\n",
       "    <tr>\n",
       "      <th>416710</th>\n",
       "      <td>'Politique'</td>\n",
       "      <td>'Éducation'</td>\n",
       "      <td>'Gouvernement'</td>\n",
       "      <td>'Écoles</td>\n",
       "      <td>collèges</td>\n",
       "      <td>lycées'</td>\n",
       "      <td>'Investissements'</td>\n",
       "      <td>None</td>\n",
       "      <td>None</td>\n",
       "      <td>None</td>\n",
       "      <td>None</td>\n",
       "      <td>None</td>\n",
       "      <td>None</td>\n",
       "      <td>None</td>\n",
       "      <td>None</td>\n",
       "      <td>None</td>\n",
       "      <td>None</td>\n",
       "      <td>None</td>\n",
       "      <td>None</td>\n",
       "    </tr>\n",
       "    <tr>\n",
       "      <th>416711</th>\n",
       "      <td>'Politique'</td>\n",
       "      <td>'Éducation'</td>\n",
       "      <td>'Gouvernement'</td>\n",
       "      <td>'Écoles</td>\n",
       "      <td>collèges</td>\n",
       "      <td>lycées'</td>\n",
       "      <td>'Investissements'</td>\n",
       "      <td>None</td>\n",
       "      <td>None</td>\n",
       "      <td>None</td>\n",
       "      <td>None</td>\n",
       "      <td>None</td>\n",
       "      <td>None</td>\n",
       "      <td>None</td>\n",
       "      <td>None</td>\n",
       "      <td>None</td>\n",
       "      <td>None</td>\n",
       "      <td>None</td>\n",
       "      <td>None</td>\n",
       "    </tr>\n",
       "    <tr>\n",
       "      <th>416712</th>\n",
       "      <td>'Politique'</td>\n",
       "      <td>'Gouvernement'</td>\n",
       "      <td>'Cultes et sectes'</td>\n",
       "      <td>'Réseaux sociaux'</td>\n",
       "      <td>None</td>\n",
       "      <td>None</td>\n",
       "      <td>None</td>\n",
       "      <td>None</td>\n",
       "      <td>None</td>\n",
       "      <td>None</td>\n",
       "      <td>None</td>\n",
       "      <td>None</td>\n",
       "      <td>None</td>\n",
       "      <td>None</td>\n",
       "      <td>None</td>\n",
       "      <td>None</td>\n",
       "      <td>None</td>\n",
       "      <td>None</td>\n",
       "      <td>None</td>\n",
       "    </tr>\n",
       "  </tbody>\n",
       "</table>\n",
       "<p>416713 rows × 19 columns</p>\n",
       "</div>"
      ],
      "text/plain": [
       "                              0               1                   2   \\\n",
       "0       'Arts et divertissement'        'Cinéma'           'Culture'   \n",
       "1       'Arts et divertissement'        'Cinéma'           'Culture'   \n",
       "2       'Arts et divertissement'        'Cinéma'           'Culture'   \n",
       "3       'Arts et divertissement'        'Cinéma'           'Culture'   \n",
       "4       'Arts et divertissement'        'Cinéma'           'Culture'   \n",
       "...                          ...             ...                 ...   \n",
       "416708                   'Sport'     'Snowboard'   'Exploit sportif'   \n",
       "416709                   'Sport'     'Snowboard'   'Exploit sportif'   \n",
       "416710               'Politique'     'Éducation'      'Gouvernement'   \n",
       "416711               'Politique'     'Éducation'      'Gouvernement'   \n",
       "416712               'Politique'  'Gouvernement'  'Cultes et sectes'   \n",
       "\n",
       "                           3         4        5                  6     7   \\\n",
       "0       'Prix et récompenses'      None     None               None  None   \n",
       "1       'Prix et récompenses'      None     None               None  None   \n",
       "2       'Prix et récompenses'      None     None               None  None   \n",
       "3       'Prix et récompenses'      None     None               None  None   \n",
       "4       'Prix et récompenses'      None     None               None  None   \n",
       "...                       ...       ...      ...                ...   ...   \n",
       "416708                   None      None     None               None  None   \n",
       "416709                   None      None     None               None  None   \n",
       "416710                'Écoles  collèges  lycées'  'Investissements'  None   \n",
       "416711                'Écoles  collèges  lycées'  'Investissements'  None   \n",
       "416712      'Réseaux sociaux'      None     None               None  None   \n",
       "\n",
       "          8     9     10    11    12    13    14    15    16    17    18  \n",
       "0       None  None  None  None  None  None  None  None  None  None  None  \n",
       "1       None  None  None  None  None  None  None  None  None  None  None  \n",
       "2       None  None  None  None  None  None  None  None  None  None  None  \n",
       "3       None  None  None  None  None  None  None  None  None  None  None  \n",
       "4       None  None  None  None  None  None  None  None  None  None  None  \n",
       "...      ...   ...   ...   ...   ...   ...   ...   ...   ...   ...   ...  \n",
       "416708  None  None  None  None  None  None  None  None  None  None  None  \n",
       "416709  None  None  None  None  None  None  None  None  None  None  None  \n",
       "416710  None  None  None  None  None  None  None  None  None  None  None  \n",
       "416711  None  None  None  None  None  None  None  None  None  None  None  \n",
       "416712  None  None  None  None  None  None  None  None  None  None  None  \n",
       "\n",
       "[416713 rows x 19 columns]"
      ]
     },
     "execution_count": 13,
     "metadata": {},
     "output_type": "execute_result"
    }
   ],
   "source": [
    "df_complete['iptcTags'].str.split(', ',expand=True)"
   ]
  },
  {
   "cell_type": "code",
   "execution_count": 14,
   "metadata": {},
   "outputs": [],
   "source": [
    "df_complete['iptcTags'].str.split(', ',expand=True).to_excel('tags.xlsx')"
   ]
  },
  {
   "cell_type": "code",
   "execution_count": 17,
   "metadata": {},
   "outputs": [
    {
     "data": {
      "text/plain": [
       "44191"
      ]
     },
     "execution_count": 17,
     "metadata": {},
     "output_type": "execute_result"
    }
   ],
   "source": [
    "df_complete['User_IP'].size"
   ]
  },
  {
   "cell_type": "code",
   "execution_count": 18,
   "metadata": {},
   "outputs": [],
   "source": [
    "df_group_by = df_complete.groupby(['User_IP','publishDate'],as_index = False).count()"
   ]
  },
  {
   "cell_type": "code",
   "execution_count": 19,
   "metadata": {},
   "outputs": [],
   "source": [
    "#delete the record with more than 20 articles per day (and that's high but to be sure)\n",
    "df_group_by = df_group_by.drop(df_group_by[df_group_by['iptcTags'] > 20].index)"
   ]
  },
  {
   "cell_type": "code",
   "execution_count": 20,
   "metadata": {},
   "outputs": [],
   "source": [
    "User_to_keep = df_group_by['User_IP'].unique()"
   ]
  },
  {
   "cell_type": "code",
   "execution_count": 19,
   "metadata": {},
   "outputs": [
    {
     "data": {
      "text/plain": [
       "array(['0000f3584ef7a663ff605d9bfdd23fbc',\n",
       "       '000213c72a17939004a1518185845660',\n",
       "       '000265e7932e227238fc4f4d925697fe', ...,\n",
       "       'fffe54d9fe7535c954141ff2056edd49',\n",
       "       'fffe75a8722c69ae1c5311a136e4ab0a',\n",
       "       'ffff05e23fe242d5c3babac2d135f3bf'], dtype=object)"
      ]
     },
     "execution_count": 19,
     "metadata": {},
     "output_type": "execute_result"
    }
   ],
   "source": [
    "User_to_keep"
   ]
  },
  {
   "cell_type": "code",
   "execution_count": 21,
   "metadata": {},
   "outputs": [],
   "source": [
    "df_complete_filtered = df_complete[df_complete['User_IP'].isin(User_to_keep)]"
   ]
  },
  {
   "cell_type": "code",
   "execution_count": 22,
   "metadata": {},
   "outputs": [
    {
     "data": {
      "text/html": [
       "<div>\n",
       "<style scoped>\n",
       "    .dataframe tbody tr th:only-of-type {\n",
       "        vertical-align: middle;\n",
       "    }\n",
       "\n",
       "    .dataframe tbody tr th {\n",
       "        vertical-align: top;\n",
       "    }\n",
       "\n",
       "    .dataframe thead th {\n",
       "        text-align: right;\n",
       "    }\n",
       "</style>\n",
       "<table border=\"1\" class=\"dataframe\">\n",
       "  <thead>\n",
       "    <tr style=\"text-align: right;\">\n",
       "      <th></th>\n",
       "      <th>User_IP</th>\n",
       "      <th>escenicID</th>\n",
       "      <th>publishDate</th>\n",
       "      <th>iptcTags</th>\n",
       "      <th>entities</th>\n",
       "    </tr>\n",
       "  </thead>\n",
       "  <tbody>\n",
       "    <tr>\n",
       "      <th>0</th>\n",
       "      <td>4d21551a47debd980cb1569cfc6a1b1f</td>\n",
       "      <td>13874253.0</td>\n",
       "      <td>2023-03-19</td>\n",
       "      <td>[]</td>\n",
       "      <td>['Union suisse des arts et métiers', 'Henrique...</td>\n",
       "    </tr>\n",
       "    <tr>\n",
       "      <th>1</th>\n",
       "      <td>08fac65483c4e8bcd406dfa9d98e0a69</td>\n",
       "      <td>13874253.0</td>\n",
       "      <td>2023-03-19</td>\n",
       "      <td>[]</td>\n",
       "      <td>['Union suisse des arts et métiers', 'Henrique...</td>\n",
       "    </tr>\n",
       "    <tr>\n",
       "      <th>2</th>\n",
       "      <td>8e20ff38026811af9bca14722aeed559</td>\n",
       "      <td>13874253.0</td>\n",
       "      <td>2023-03-19</td>\n",
       "      <td>[]</td>\n",
       "      <td>['Union suisse des arts et métiers', 'Henrique...</td>\n",
       "    </tr>\n",
       "    <tr>\n",
       "      <th>3</th>\n",
       "      <td>2513d52d256117b9e59c56ae3129ecd4</td>\n",
       "      <td>13874253.0</td>\n",
       "      <td>2023-03-19</td>\n",
       "      <td>[]</td>\n",
       "      <td>['Union suisse des arts et métiers', 'Henrique...</td>\n",
       "    </tr>\n",
       "    <tr>\n",
       "      <th>4</th>\n",
       "      <td>5225cd641ae60ab0d244557baf19043b</td>\n",
       "      <td>13874253.0</td>\n",
       "      <td>2023-03-19</td>\n",
       "      <td>[]</td>\n",
       "      <td>['Union suisse des arts et métiers', 'Henrique...</td>\n",
       "    </tr>\n",
       "    <tr>\n",
       "      <th>...</th>\n",
       "      <td>...</td>\n",
       "      <td>...</td>\n",
       "      <td>...</td>\n",
       "      <td>...</td>\n",
       "      <td>...</td>\n",
       "    </tr>\n",
       "    <tr>\n",
       "      <th>13358</th>\n",
       "      <td>ea5dac5f993cd347e2ca9e3b58ca09dc</td>\n",
       "      <td>13832280.0</td>\n",
       "      <td>2023-03-04</td>\n",
       "      <td>['Arts, culture, divertissement et médias', 'S...</td>\n",
       "      <td>['The New York Times', 'personne trans', 'jour...</td>\n",
       "    </tr>\n",
       "    <tr>\n",
       "      <th>13359</th>\n",
       "      <td>4ce462e65e1cc15b23bcc9ebbeafeb01</td>\n",
       "      <td>13834210.0</td>\n",
       "      <td>2023-03-04</td>\n",
       "      <td>['Sport', 'Combiné nordique', 'Ski']</td>\n",
       "      <td>['Jarl Magnus Riiber', 'combiné nordique', 'No...</td>\n",
       "    </tr>\n",
       "    <tr>\n",
       "      <th>13360</th>\n",
       "      <td>24e769afea427e2bf4370931fd2c3ab3</td>\n",
       "      <td>13835458.0</td>\n",
       "      <td>2023-03-05</td>\n",
       "      <td>['Sport', 'Hockey sur glace']</td>\n",
       "      <td>['États-Unis', 'Kevin Fiala', 'NHL', 'Californ...</td>\n",
       "    </tr>\n",
       "    <tr>\n",
       "      <th>13361</th>\n",
       "      <td>b2d2ef8c15287614dda8632bdc8cc48d</td>\n",
       "      <td>13835458.0</td>\n",
       "      <td>2023-03-05</td>\n",
       "      <td>['Sport', 'Hockey sur glace']</td>\n",
       "      <td>['États-Unis', 'Kevin Fiala', 'NHL', 'Californ...</td>\n",
       "    </tr>\n",
       "    <tr>\n",
       "      <th>13362</th>\n",
       "      <td>5322f918316189dd00a7911876c42e39</td>\n",
       "      <td>13836063.0</td>\n",
       "      <td>2023-03-05</td>\n",
       "      <td>['Sport', 'Biathlon', 'Prix sportif']</td>\n",
       "      <td>['duo', 'Niklas Hartweg', 'Amy Baserga', 'podi...</td>\n",
       "    </tr>\n",
       "  </tbody>\n",
       "</table>\n",
       "<p>13363 rows × 5 columns</p>\n",
       "</div>"
      ],
      "text/plain": [
       "                                User_IP   escenicID publishDate  \\\n",
       "0      4d21551a47debd980cb1569cfc6a1b1f  13874253.0  2023-03-19   \n",
       "1      08fac65483c4e8bcd406dfa9d98e0a69  13874253.0  2023-03-19   \n",
       "2      8e20ff38026811af9bca14722aeed559  13874253.0  2023-03-19   \n",
       "3      2513d52d256117b9e59c56ae3129ecd4  13874253.0  2023-03-19   \n",
       "4      5225cd641ae60ab0d244557baf19043b  13874253.0  2023-03-19   \n",
       "...                                 ...         ...         ...   \n",
       "13358  ea5dac5f993cd347e2ca9e3b58ca09dc  13832280.0  2023-03-04   \n",
       "13359  4ce462e65e1cc15b23bcc9ebbeafeb01  13834210.0  2023-03-04   \n",
       "13360  24e769afea427e2bf4370931fd2c3ab3  13835458.0  2023-03-05   \n",
       "13361  b2d2ef8c15287614dda8632bdc8cc48d  13835458.0  2023-03-05   \n",
       "13362  5322f918316189dd00a7911876c42e39  13836063.0  2023-03-05   \n",
       "\n",
       "                                                iptcTags  \\\n",
       "0                                                     []   \n",
       "1                                                     []   \n",
       "2                                                     []   \n",
       "3                                                     []   \n",
       "4                                                     []   \n",
       "...                                                  ...   \n",
       "13358  ['Arts, culture, divertissement et médias', 'S...   \n",
       "13359               ['Sport', 'Combiné nordique', 'Ski']   \n",
       "13360                      ['Sport', 'Hockey sur glace']   \n",
       "13361                      ['Sport', 'Hockey sur glace']   \n",
       "13362              ['Sport', 'Biathlon', 'Prix sportif']   \n",
       "\n",
       "                                                entities  \n",
       "0      ['Union suisse des arts et métiers', 'Henrique...  \n",
       "1      ['Union suisse des arts et métiers', 'Henrique...  \n",
       "2      ['Union suisse des arts et métiers', 'Henrique...  \n",
       "3      ['Union suisse des arts et métiers', 'Henrique...  \n",
       "4      ['Union suisse des arts et métiers', 'Henrique...  \n",
       "...                                                  ...  \n",
       "13358  ['The New York Times', 'personne trans', 'jour...  \n",
       "13359  ['Jarl Magnus Riiber', 'combiné nordique', 'No...  \n",
       "13360  ['États-Unis', 'Kevin Fiala', 'NHL', 'Californ...  \n",
       "13361  ['États-Unis', 'Kevin Fiala', 'NHL', 'Californ...  \n",
       "13362  ['duo', 'Niklas Hartweg', 'Amy Baserga', 'podi...  \n",
       "\n",
       "[13363 rows x 5 columns]"
      ]
     },
     "execution_count": 22,
     "metadata": {},
     "output_type": "execute_result"
    }
   ],
   "source": [
    "#We want to have a correspondance 1-1 user-article\n",
    "df_complete_filtered = df_complete_filtered.drop_duplicates(subset=['User_IP','escenicID'],keep='first')\n",
    "df_complete_filtered = df_complete_filtered.reset_index( drop=True)\n",
    "df_complete_filtered"
   ]
  },
  {
   "cell_type": "code",
   "execution_count": 23,
   "metadata": {},
   "outputs": [],
   "source": [
    "#df_user_tags = pd.concat([df_complete_filtered['User_IP'],df_complete_filtered['iptcTags'].str.split(', ',expand=True)],axis=1)\n",
    "df_user_tags = pd.concat([df_complete_filtered['User_IP'],df_complete_filtered['iptcTags']],axis=1)"
   ]
  },
  {
   "cell_type": "code",
   "execution_count": 24,
   "metadata": {},
   "outputs": [
    {
     "name": "stdout",
     "output_type": "stream",
     "text": [
      "7348\n",
      "7348\n"
     ]
    }
   ],
   "source": [
    "print(df_complete_filtered['User_IP'].unique().size)\n",
    "print(df_user_tags['User_IP'].unique().size)"
   ]
  },
  {
   "cell_type": "code",
   "execution_count": 25,
   "metadata": {},
   "outputs": [],
   "source": [
    "df_user_tags['iptcTags'] = df_user_tags['iptcTags'].str.replace('[','')\n",
    "df_user_tags['iptcTags'] = df_user_tags['iptcTags'].str.replace(']','')"
   ]
  },
  {
   "cell_type": "code",
   "execution_count": 26,
   "metadata": {},
   "outputs": [
    {
     "data": {
      "text/html": [
       "<div>\n",
       "<style scoped>\n",
       "    .dataframe tbody tr th:only-of-type {\n",
       "        vertical-align: middle;\n",
       "    }\n",
       "\n",
       "    .dataframe tbody tr th {\n",
       "        vertical-align: top;\n",
       "    }\n",
       "\n",
       "    .dataframe thead th {\n",
       "        text-align: right;\n",
       "    }\n",
       "</style>\n",
       "<table border=\"1\" class=\"dataframe\">\n",
       "  <thead>\n",
       "    <tr style=\"text-align: right;\">\n",
       "      <th></th>\n",
       "      <th>User_IP</th>\n",
       "      <th>iptcTags</th>\n",
       "    </tr>\n",
       "  </thead>\n",
       "  <tbody>\n",
       "    <tr>\n",
       "      <th>0</th>\n",
       "      <td>4d21551a47debd980cb1569cfc6a1b1f</td>\n",
       "      <td></td>\n",
       "    </tr>\n",
       "    <tr>\n",
       "      <th>1</th>\n",
       "      <td>08fac65483c4e8bcd406dfa9d98e0a69</td>\n",
       "      <td></td>\n",
       "    </tr>\n",
       "    <tr>\n",
       "      <th>2</th>\n",
       "      <td>8e20ff38026811af9bca14722aeed559</td>\n",
       "      <td></td>\n",
       "    </tr>\n",
       "    <tr>\n",
       "      <th>3</th>\n",
       "      <td>2513d52d256117b9e59c56ae3129ecd4</td>\n",
       "      <td></td>\n",
       "    </tr>\n",
       "    <tr>\n",
       "      <th>4</th>\n",
       "      <td>5225cd641ae60ab0d244557baf19043b</td>\n",
       "      <td></td>\n",
       "    </tr>\n",
       "    <tr>\n",
       "      <th>...</th>\n",
       "      <td>...</td>\n",
       "      <td>...</td>\n",
       "    </tr>\n",
       "    <tr>\n",
       "      <th>13358</th>\n",
       "      <td>ea5dac5f993cd347e2ca9e3b58ca09dc</td>\n",
       "      <td>'Arts, culture, divertissement et médias', 'So...</td>\n",
       "    </tr>\n",
       "    <tr>\n",
       "      <th>13359</th>\n",
       "      <td>4ce462e65e1cc15b23bcc9ebbeafeb01</td>\n",
       "      <td>'Sport', 'Combiné nordique', 'Ski'</td>\n",
       "    </tr>\n",
       "    <tr>\n",
       "      <th>13360</th>\n",
       "      <td>24e769afea427e2bf4370931fd2c3ab3</td>\n",
       "      <td>'Sport', 'Hockey sur glace'</td>\n",
       "    </tr>\n",
       "    <tr>\n",
       "      <th>13361</th>\n",
       "      <td>b2d2ef8c15287614dda8632bdc8cc48d</td>\n",
       "      <td>'Sport', 'Hockey sur glace'</td>\n",
       "    </tr>\n",
       "    <tr>\n",
       "      <th>13362</th>\n",
       "      <td>5322f918316189dd00a7911876c42e39</td>\n",
       "      <td>'Sport', 'Biathlon', 'Prix sportif'</td>\n",
       "    </tr>\n",
       "  </tbody>\n",
       "</table>\n",
       "<p>13363 rows × 2 columns</p>\n",
       "</div>"
      ],
      "text/plain": [
       "                                User_IP  \\\n",
       "0      4d21551a47debd980cb1569cfc6a1b1f   \n",
       "1      08fac65483c4e8bcd406dfa9d98e0a69   \n",
       "2      8e20ff38026811af9bca14722aeed559   \n",
       "3      2513d52d256117b9e59c56ae3129ecd4   \n",
       "4      5225cd641ae60ab0d244557baf19043b   \n",
       "...                                 ...   \n",
       "13358  ea5dac5f993cd347e2ca9e3b58ca09dc   \n",
       "13359  4ce462e65e1cc15b23bcc9ebbeafeb01   \n",
       "13360  24e769afea427e2bf4370931fd2c3ab3   \n",
       "13361  b2d2ef8c15287614dda8632bdc8cc48d   \n",
       "13362  5322f918316189dd00a7911876c42e39   \n",
       "\n",
       "                                                iptcTags  \n",
       "0                                                         \n",
       "1                                                         \n",
       "2                                                         \n",
       "3                                                         \n",
       "4                                                         \n",
       "...                                                  ...  \n",
       "13358  'Arts, culture, divertissement et médias', 'So...  \n",
       "13359                 'Sport', 'Combiné nordique', 'Ski'  \n",
       "13360                        'Sport', 'Hockey sur glace'  \n",
       "13361                        'Sport', 'Hockey sur glace'  \n",
       "13362                'Sport', 'Biathlon', 'Prix sportif'  \n",
       "\n",
       "[13363 rows x 2 columns]"
      ]
     },
     "execution_count": 26,
     "metadata": {},
     "output_type": "execute_result"
    }
   ],
   "source": [
    "df_user_tags"
   ]
  },
  {
   "cell_type": "code",
   "execution_count": 26,
   "metadata": {},
   "outputs": [
    {
     "data": {
      "text/plain": [
       "User_IP\n",
       "e6faaa645d1bca4ec15f7e3522fe9327    2734\n",
       "2304aabb63bf4434475fe1b895acfb21    2067\n",
       "bb1df9153dbc711cc58a989246aacab0    2043\n",
       "e95a06be59eac80c57cce844ca150a9c    1714\n",
       "1b0f25f4aace4450f0d82f686062d1f8    1581\n",
       "                                    ... \n",
       "64016926e9ae6d6efc7cdbe5566d22cb       1\n",
       "9ab36364c21a329a54b9eed3b8828339       1\n",
       "cd543ef1fb1ae120660e9db1bb9f1e78       1\n",
       "c2f89888998cd40fb03fac355c143102       1\n",
       "aee58bc837694fb990fac180394b2b6d       1\n",
       "Name: count, Length: 119936, dtype: int64"
      ]
     },
     "execution_count": 26,
     "metadata": {},
     "output_type": "execute_result"
    }
   ],
   "source": [
    "df_user_tags['User_IP'].value_counts()"
   ]
  },
  {
   "cell_type": "code",
   "execution_count": 27,
   "metadata": {},
   "outputs": [],
   "source": [
    "df_user_tags['iptcTags'] = df_user_tags.groupby(['User_IP'])['iptcTags'].transform(','.join)"
   ]
  },
  {
   "cell_type": "code",
   "execution_count": 28,
   "metadata": {},
   "outputs": [],
   "source": [
    "df_user_tags.to_excel('user_tags_ALL.xlsx')"
   ]
  },
  {
   "cell_type": "code",
   "execution_count": null,
   "metadata": {},
   "outputs": [
    {
     "ename": "MemoryError",
     "evalue": "Unable to allocate 30.1 GiB for an array with shape (366301, 11027) and data type object",
     "output_type": "error",
     "traceback": [
      "\u001b[1;31m---------------------------------------------------------------------------\u001b[0m",
      "\u001b[1;31mMemoryError\u001b[0m                               Traceback (most recent call last)",
      "\u001b[1;32mc:\\Users\\laura.finarell\\OneDrive - HESSO\\Polarizzazione\\Code\\join_log_article.ipynb Cell 30\u001b[0m line \u001b[0;36m1\n\u001b[1;32m----> <a href='vscode-notebook-cell:/c%3A/Users/laura.finarell/OneDrive%20-%20HESSO/Polarizzazione/Code/join_log_article.ipynb#X55sZmlsZQ%3D%3D?line=0'>1</a>\u001b[0m df_user_tags[\u001b[39m'\u001b[39m\u001b[39miptcTags\u001b[39m\u001b[39m'\u001b[39m]\u001b[39m.\u001b[39mstr\u001b[39m.\u001b[39msplit(\u001b[39m'\u001b[39m\u001b[39m, \u001b[39m\u001b[39m'\u001b[39m,expand\u001b[39m=\u001b[39m\u001b[39mTrue\u001b[39;00m)\n",
      "File \u001b[1;32mc:\\Users\\laura.finarell\\AppData\\Local\\anaconda3\\Lib\\site-packages\\pandas\\core\\strings\\accessor.py:129\u001b[0m, in \u001b[0;36mforbid_nonstring_types.<locals>._forbid_nonstring_types.<locals>.wrapper\u001b[1;34m(self, *args, **kwargs)\u001b[0m\n\u001b[0;32m    124\u001b[0m     msg \u001b[39m=\u001b[39m (\n\u001b[0;32m    125\u001b[0m         \u001b[39mf\u001b[39m\u001b[39m\"\u001b[39m\u001b[39mCannot use .str.\u001b[39m\u001b[39m{\u001b[39;00mfunc_name\u001b[39m}\u001b[39;00m\u001b[39m with values of \u001b[39m\u001b[39m\"\u001b[39m\n\u001b[0;32m    126\u001b[0m         \u001b[39mf\u001b[39m\u001b[39m\"\u001b[39m\u001b[39minferred dtype \u001b[39m\u001b[39m'\u001b[39m\u001b[39m{\u001b[39;00m\u001b[39mself\u001b[39m\u001b[39m.\u001b[39m_inferred_dtype\u001b[39m}\u001b[39;00m\u001b[39m'\u001b[39m\u001b[39m.\u001b[39m\u001b[39m\"\u001b[39m\n\u001b[0;32m    127\u001b[0m     )\n\u001b[0;32m    128\u001b[0m     \u001b[39mraise\u001b[39;00m \u001b[39mTypeError\u001b[39;00m(msg)\n\u001b[1;32m--> 129\u001b[0m \u001b[39mreturn\u001b[39;00m func(\u001b[39mself\u001b[39m, \u001b[39m*\u001b[39margs, \u001b[39m*\u001b[39m\u001b[39m*\u001b[39mkwargs)\n",
      "File \u001b[1;32mc:\\Users\\laura.finarell\\AppData\\Local\\anaconda3\\Lib\\site-packages\\pandas\\core\\strings\\accessor.py:895\u001b[0m, in \u001b[0;36mStringMethods.split\u001b[1;34m(self, pat, n, expand, regex)\u001b[0m\n\u001b[0;32m    893\u001b[0m     regex \u001b[39m=\u001b[39m \u001b[39mTrue\u001b[39;00m\n\u001b[0;32m    894\u001b[0m result \u001b[39m=\u001b[39m \u001b[39mself\u001b[39m\u001b[39m.\u001b[39m_data\u001b[39m.\u001b[39marray\u001b[39m.\u001b[39m_str_split(pat, n, expand, regex)\n\u001b[1;32m--> 895\u001b[0m \u001b[39mreturn\u001b[39;00m \u001b[39mself\u001b[39m\u001b[39m.\u001b[39m_wrap_result(result, returns_string\u001b[39m=\u001b[39mexpand, expand\u001b[39m=\u001b[39mexpand)\n",
      "File \u001b[1;32mc:\\Users\\laura.finarell\\AppData\\Local\\anaconda3\\Lib\\site-packages\\pandas\\core\\strings\\accessor.py:383\u001b[0m, in \u001b[0;36mStringMethods._wrap_result\u001b[1;34m(self, result, name, expand, fill_value, returns_string, returns_bool)\u001b[0m\n\u001b[0;32m    381\u001b[0m \u001b[39mif\u001b[39;00m expand:\n\u001b[0;32m    382\u001b[0m     cons \u001b[39m=\u001b[39m \u001b[39mself\u001b[39m\u001b[39m.\u001b[39m_orig\u001b[39m.\u001b[39m_constructor_expanddim\n\u001b[1;32m--> 383\u001b[0m     result \u001b[39m=\u001b[39m cons(result, columns\u001b[39m=\u001b[39mname, index\u001b[39m=\u001b[39mindex, dtype\u001b[39m=\u001b[39mdtype)\n\u001b[0;32m    384\u001b[0m \u001b[39melse\u001b[39;00m:\n\u001b[0;32m    385\u001b[0m     \u001b[39m# Must be a Series\u001b[39;00m\n\u001b[0;32m    386\u001b[0m     cons \u001b[39m=\u001b[39m \u001b[39mself\u001b[39m\u001b[39m.\u001b[39m_orig\u001b[39m.\u001b[39m_constructor\n",
      "File \u001b[1;32mc:\\Users\\laura.finarell\\AppData\\Local\\anaconda3\\Lib\\site-packages\\pandas\\core\\frame.py:782\u001b[0m, in \u001b[0;36mDataFrame.__init__\u001b[1;34m(self, data, index, columns, dtype, copy)\u001b[0m\n\u001b[0;32m    780\u001b[0m     \u001b[39mif\u001b[39;00m columns \u001b[39mis\u001b[39;00m \u001b[39mnot\u001b[39;00m \u001b[39mNone\u001b[39;00m:\n\u001b[0;32m    781\u001b[0m         columns \u001b[39m=\u001b[39m ensure_index(columns)\n\u001b[1;32m--> 782\u001b[0m     arrays, columns, index \u001b[39m=\u001b[39m nested_data_to_arrays(\n\u001b[0;32m    783\u001b[0m         \u001b[39m# error: Argument 3 to \"nested_data_to_arrays\" has incompatible\u001b[39;00m\n\u001b[0;32m    784\u001b[0m         \u001b[39m# type \"Optional[Collection[Any]]\"; expected \"Optional[Index]\"\u001b[39;00m\n\u001b[0;32m    785\u001b[0m         data,\n\u001b[0;32m    786\u001b[0m         columns,\n\u001b[0;32m    787\u001b[0m         index,  \u001b[39m# type: ignore[arg-type]\u001b[39;00m\n\u001b[0;32m    788\u001b[0m         dtype,\n\u001b[0;32m    789\u001b[0m     )\n\u001b[0;32m    790\u001b[0m     mgr \u001b[39m=\u001b[39m arrays_to_mgr(\n\u001b[0;32m    791\u001b[0m         arrays,\n\u001b[0;32m    792\u001b[0m         columns,\n\u001b[1;32m   (...)\u001b[0m\n\u001b[0;32m    795\u001b[0m         typ\u001b[39m=\u001b[39mmanager,\n\u001b[0;32m    796\u001b[0m     )\n\u001b[0;32m    797\u001b[0m \u001b[39melse\u001b[39;00m:\n",
      "File \u001b[1;32mc:\\Users\\laura.finarell\\AppData\\Local\\anaconda3\\Lib\\site-packages\\pandas\\core\\internals\\construction.py:498\u001b[0m, in \u001b[0;36mnested_data_to_arrays\u001b[1;34m(data, columns, index, dtype)\u001b[0m\n\u001b[0;32m    495\u001b[0m \u001b[39mif\u001b[39;00m is_named_tuple(data[\u001b[39m0\u001b[39m]) \u001b[39mand\u001b[39;00m columns \u001b[39mis\u001b[39;00m \u001b[39mNone\u001b[39;00m:\n\u001b[0;32m    496\u001b[0m     columns \u001b[39m=\u001b[39m ensure_index(data[\u001b[39m0\u001b[39m]\u001b[39m.\u001b[39m_fields)\n\u001b[1;32m--> 498\u001b[0m arrays, columns \u001b[39m=\u001b[39m to_arrays(data, columns, dtype\u001b[39m=\u001b[39mdtype)\n\u001b[0;32m    499\u001b[0m columns \u001b[39m=\u001b[39m ensure_index(columns)\n\u001b[0;32m    501\u001b[0m \u001b[39mif\u001b[39;00m index \u001b[39mis\u001b[39;00m \u001b[39mNone\u001b[39;00m:\n",
      "File \u001b[1;32mc:\\Users\\laura.finarell\\AppData\\Local\\anaconda3\\Lib\\site-packages\\pandas\\core\\internals\\construction.py:830\u001b[0m, in \u001b[0;36mto_arrays\u001b[1;34m(data, columns, dtype)\u001b[0m\n\u001b[0;32m    827\u001b[0m     \u001b[39mreturn\u001b[39;00m arrays, columns\n\u001b[0;32m    829\u001b[0m \u001b[39mif\u001b[39;00m \u001b[39misinstance\u001b[39m(data[\u001b[39m0\u001b[39m], (\u001b[39mlist\u001b[39m, \u001b[39mtuple\u001b[39m)):\n\u001b[1;32m--> 830\u001b[0m     arr \u001b[39m=\u001b[39m _list_to_arrays(data)\n\u001b[0;32m    831\u001b[0m \u001b[39melif\u001b[39;00m \u001b[39misinstance\u001b[39m(data[\u001b[39m0\u001b[39m], abc\u001b[39m.\u001b[39mMapping):\n\u001b[0;32m    832\u001b[0m     arr, columns \u001b[39m=\u001b[39m _list_of_dict_to_arrays(data, columns)\n",
      "File \u001b[1;32mc:\\Users\\laura.finarell\\AppData\\Local\\anaconda3\\Lib\\site-packages\\pandas\\core\\internals\\construction.py:851\u001b[0m, in \u001b[0;36m_list_to_arrays\u001b[1;34m(data)\u001b[0m\n\u001b[0;32m    848\u001b[0m     content \u001b[39m=\u001b[39m lib\u001b[39m.\u001b[39mto_object_array_tuples(data)\n\u001b[0;32m    849\u001b[0m \u001b[39melse\u001b[39;00m:\n\u001b[0;32m    850\u001b[0m     \u001b[39m# list of lists\u001b[39;00m\n\u001b[1;32m--> 851\u001b[0m     content \u001b[39m=\u001b[39m lib\u001b[39m.\u001b[39mto_object_array(data)\n\u001b[0;32m    852\u001b[0m \u001b[39mreturn\u001b[39;00m content\n",
      "File \u001b[1;32mc:\\Users\\laura.finarell\\AppData\\Local\\anaconda3\\Lib\\site-packages\\pandas\\_libs\\lib.pyx:2883\u001b[0m, in \u001b[0;36mpandas._libs.lib.to_object_array\u001b[1;34m()\u001b[0m\n",
      "\u001b[1;31mMemoryError\u001b[0m: Unable to allocate 30.1 GiB for an array with shape (366301, 11027) and data type object"
     ]
    }
   ],
   "source": [
    "df_user_tags['iptcTags'].str.split(', ',expand=True)"
   ]
  },
  {
   "cell_type": "markdown",
   "metadata": {},
   "source": [
    "## Since there are to many Tags we decide to filter them according to :https://www.iptc.org/std/NewsCodes/treeview/mediatopic/mediatopic-fr.html\n",
    "\n",
    "There are 17 tags"
   ]
  },
  {
   "cell_type": "code",
   "execution_count": 29,
   "metadata": {},
   "outputs": [],
   "source": [
    "tags_to_keep = ['Arts, culture, divertissement','Conflit, guerre et paix','Criminalité, droit et justice','Désastres et accidents','Environnement','Gens animaux insolite','Météo','Politique','Religion et croyance','Santé','Science et technologie','Social','Société','Sport','Vie quotidienne et loisirs','Économie et finances','Éducation']"
   ]
  },
  {
   "cell_type": "code",
   "execution_count": 30,
   "metadata": {},
   "outputs": [],
   "source": [
    "#We delete the rows that have not this main tags\n",
    "df_user_tags = df_user_tags.drop(df_user_tags[df_user_tags['iptcTags'].str.contains('|'.join(tags_to_keep))==False].index)\n",
    "df_user_tags = df_user_tags.reset_index( drop=True)"
   ]
  },
  {
   "cell_type": "code",
   "execution_count": 31,
   "metadata": {},
   "outputs": [
    {
     "name": "stdout",
     "output_type": "stream",
     "text": [
      "['Économie et finances', 'Environnement', 'Politique', 'Sport', 'Politique', 'Conflit, guerre et paix', 'Société', 'Santé', 'Santé', 'Science et technologie', 'Économie et finances', 'Social', 'Santé']\n",
      "['Économie et finances', 'Environnement', 'Politique', 'Économie et finances', 'Environnement', 'Politique', 'Économie et finances', 'Environnement', 'Politique', 'Économie et finances', 'Environnement', 'Politique', 'Société', 'Économie et finances', 'Criminalité, droit et justice', 'Politique', 'Société', 'Politique', 'Société', 'Sport', 'Économie et finances', 'Politique', 'Criminalité, droit et justice', 'Désastres et accidents', 'Conflit, guerre et paix', 'Science et technologie', 'Environnement', 'Science et technologie', 'Environnement', 'Science et technologie', 'Environnement', 'Science et technologie', 'Environnement', 'Science et technologie', 'Environnement']\n"
     ]
    }
   ],
   "source": [
    "for i in range(2):    \n",
    "    print(re.findall('|'.join(tags_to_keep),df_user_tags.iloc[i,1]))"
   ]
  },
  {
   "cell_type": "code",
   "execution_count": 31,
   "metadata": {},
   "outputs": [],
   "source": [
    "iptcTags_filtered = []\n",
    "for i in range(df_user_tags.shape[0]):\n",
    "    iptcTags_filtered.append(re.findall('|'.join(tags_to_keep),df_user_tags.iloc[i,1]))"
   ]
  },
  {
   "cell_type": "code",
   "execution_count": 32,
   "metadata": {},
   "outputs": [],
   "source": [
    "df_user_tags['iptcTags_filtered'] = iptcTags_filtered"
   ]
  },
  {
   "cell_type": "code",
   "execution_count": 33,
   "metadata": {},
   "outputs": [],
   "source": [
    "#if inplae = True we don't have to reassing the df\n",
    "df_user_tags_filtered = df_user_tags.drop('iptcTags',axis=1)"
   ]
  },
  {
   "cell_type": "code",
   "execution_count": 34,
   "metadata": {},
   "outputs": [],
   "source": [
    "#Now we have to count the occurences of each tag for each user and store the frequency of a tag in the corresponding column\n",
    "counter = []\n",
    "for i in range(df_user_tags_filtered.shape[0]):\n",
    "    unique,counts = np.unique(df_user_tags_filtered.iloc[i,1],return_counts=True)\n",
    "    counter.append(dict(zip(unique, counts)))"
   ]
  },
  {
   "cell_type": "code",
   "execution_count": 43,
   "metadata": {},
   "outputs": [
    {
     "data": {
      "text/plain": [
       "{'Conflit, guerre et paix': 1,\n",
       " 'Environnement': 1,\n",
       " 'Politique': 2,\n",
       " 'Santé': 3,\n",
       " 'Science et technologie': 1,\n",
       " 'Social': 1,\n",
       " 'Société': 1,\n",
       " 'Sport': 1,\n",
       " 'Économie et finances': 2}"
      ]
     },
     "execution_count": 43,
     "metadata": {},
     "output_type": "execute_result"
    }
   ],
   "source": [
    "dict(zip(unique, counts))"
   ]
  },
  {
   "cell_type": "code",
   "execution_count": 35,
   "metadata": {},
   "outputs": [],
   "source": [
    "df_user_tags_filtered['counter'] = counter"
   ]
  },
  {
   "cell_type": "code",
   "execution_count": 36,
   "metadata": {},
   "outputs": [],
   "source": [
    "df_to_cluster = pd.DataFrame(df_user_tags_filtered['counter'].values.tolist(),index=df_user_tags_filtered['User_IP']).fillna(0).astype(int)"
   ]
  },
  {
   "cell_type": "code",
   "execution_count": 37,
   "metadata": {},
   "outputs": [],
   "source": [
    "df_to_cluster.to_csv('user_tagsfrequency_ALL.csv')"
   ]
  }
 ],
 "metadata": {
  "kernelspec": {
   "display_name": "base",
   "language": "python",
   "name": "python3"
  },
  "language_info": {
   "codemirror_mode": {
    "name": "ipython",
    "version": 3
   },
   "file_extension": ".py",
   "mimetype": "text/x-python",
   "name": "python",
   "nbconvert_exporter": "python",
   "pygments_lexer": "ipython3",
   "version": "3.11.4"
  },
  "orig_nbformat": 4
 },
 "nbformat": 4,
 "nbformat_minor": 2
}
