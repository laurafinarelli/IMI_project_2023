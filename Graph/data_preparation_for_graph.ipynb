{
 "cells": [
  {
   "cell_type": "markdown",
   "metadata": {},
   "source": [
    "## Data preparation for community detection:\n",
    "Merge the features topic and userNeed in a single column; \n",
    "Compute, for each user, the frequency of the couple;  \n",
    "We recall that the total number of couples is #topic * #userNeed; \n",
    "We create a dataset where each line is a user and his features are all the couple encoded; \n",
    "The values of the features are the associated frequencies --> shoul be normalized; \n",
    "We save the new dataset in a .csv file."
   ]
  },
  {
   "cell_type": "code",
   "execution_count": null,
   "metadata": {},
   "outputs": [],
   "source": [
    "import pandas as pd\n",
    "import numpy as np\n",
    "import re"
   ]
  },
  {
   "cell_type": "code",
   "execution_count": null,
   "metadata": {},
   "outputs": [],
   "source": []
  }
 ],
 "metadata": {
  "language_info": {
   "name": "python"
  }
 },
 "nbformat": 4,
 "nbformat_minor": 2
}
