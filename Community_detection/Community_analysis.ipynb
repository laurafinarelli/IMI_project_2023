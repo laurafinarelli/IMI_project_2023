{
 "cells": [
  {
   "cell_type": "code",
   "execution_count": 30,
   "metadata": {},
   "outputs": [],
   "source": [
    "import pandas as pd\n",
    "import json\n",
    "from Main_community_detection import read_csv_and_return_variables\n",
    "from Community_visualization_caract import reverse_label_encoding\n",
    "import sys\n",
    "sys.path.append('IMI_project_2023-1/')"
   ]
  },
  {
   "cell_type": "code",
   "execution_count": 11,
   "metadata": {},
   "outputs": [],
   "source": [
    "def filter_features(community_features, exclusion_set):\n",
    "    return [feature for feature in community_features if feature not in exclusion_set]"
   ]
  },
  {
   "cell_type": "code",
   "execution_count": 8,
   "metadata": {},
   "outputs": [],
   "source": [
    "file_path = 'Community_top4_features.json'\n",
    "\n",
    "with open(file_path, 'r') as file:\n",
    "    data = json.load(file)"
   ]
  },
  {
   "cell_type": "code",
   "execution_count": 11,
   "metadata": {},
   "outputs": [],
   "source": [
    "exclusion_set = [\n",
    "    \"monde UPDATE\", \"suisse UPDATE\", \"monde ANALYSIS\", \"suisse ANALYSIS\", \n",
    "    \"economie UPDATE\", \"sciences-tech ANALYSIS\", \"sciences-tech UPDATE\", \n",
    "    \"economie ANALYSIS\", \"culture UPDATE\", \"sciences-tech EDUCATE\", \n",
    "    \"culture DIVERT\", \"monde EDUCATE\", \"suisse EDUCATE\", \"economie EDUCATE\", \n",
    "    \"suisse TREND\", \"culture ANALYSIS\"\n",
    "]"
   ]
  },
  {
   "cell_type": "code",
   "execution_count": 9,
   "metadata": {},
   "outputs": [],
   "source": [
    "exclusion_set = []"
   ]
  },
  {
   "cell_type": "code",
   "execution_count": 12,
   "metadata": {},
   "outputs": [],
   "source": [
    "filtered_communities = {community: filter_features(features, exclusion_set) for community, features in data.items()}\n",
    "\n",
    "filtered_df = pd.DataFrame(dict([(k, pd.Series(v)) for k,v in filtered_communities.items()]))"
   ]
  },
  {
   "cell_type": "code",
   "execution_count": 13,
   "metadata": {},
   "outputs": [
    {
     "data": {
      "text/html": [
       "<div>\n",
       "<style scoped>\n",
       "    .dataframe tbody tr th:only-of-type {\n",
       "        vertical-align: middle;\n",
       "    }\n",
       "\n",
       "    .dataframe tbody tr th {\n",
       "        vertical-align: top;\n",
       "    }\n",
       "\n",
       "    .dataframe thead th {\n",
       "        text-align: right;\n",
       "    }\n",
       "</style>\n",
       "<table border=\"1\" class=\"dataframe\">\n",
       "  <thead>\n",
       "    <tr style=\"text-align: right;\">\n",
       "      <th></th>\n",
       "      <th>0</th>\n",
       "      <th>1</th>\n",
       "      <th>2</th>\n",
       "      <th>3</th>\n",
       "      <th>4</th>\n",
       "      <th>5</th>\n",
       "      <th>6</th>\n",
       "      <th>7</th>\n",
       "      <th>8</th>\n",
       "      <th>9</th>\n",
       "      <th>10</th>\n",
       "      <th>11</th>\n",
       "      <th>12</th>\n",
       "      <th>13</th>\n",
       "      <th>14</th>\n",
       "      <th>15</th>\n",
       "    </tr>\n",
       "  </thead>\n",
       "  <tbody>\n",
       "    <tr>\n",
       "      <th>0</th>\n",
       "      <td>culture INSPIRE</td>\n",
       "      <td>sciences-tech INSPIRE</td>\n",
       "      <td>culture INSPIRE</td>\n",
       "      <td>economie TREND</td>\n",
       "      <td>sciences-tech TREND</td>\n",
       "      <td>sciences-tech DIVERT</td>\n",
       "      <td>monde DIVERT</td>\n",
       "      <td>suisse DIVERT</td>\n",
       "      <td>culture EDUCATE</td>\n",
       "      <td>monde TREND</td>\n",
       "      <td>monde INSPIRE</td>\n",
       "      <td>culture TREND</td>\n",
       "      <td>monde DIVERT</td>\n",
       "      <td>culture INSPIRE</td>\n",
       "      <td>sport UPDATE</td>\n",
       "      <td>culture INSPIRE</td>\n",
       "    </tr>\n",
       "    <tr>\n",
       "      <th>1</th>\n",
       "      <td>suisse INSPIRE</td>\n",
       "      <td>monde DIVERT</td>\n",
       "      <td>culture EDUCATE</td>\n",
       "      <td>monde DIVERT</td>\n",
       "      <td>monde DIVERT</td>\n",
       "      <td>monde DIVERT</td>\n",
       "      <td>monde TREND</td>\n",
       "      <td>monde DIVERT</td>\n",
       "      <td>monde DIVERT</td>\n",
       "      <td>monde DIVERT</td>\n",
       "      <td>monde DIVERT</td>\n",
       "      <td>monde DIVERT</td>\n",
       "      <td>monde TREND</td>\n",
       "      <td>monde DIVERT</td>\n",
       "      <td>culture INSPIRE</td>\n",
       "      <td>economie INSPIRE</td>\n",
       "    </tr>\n",
       "    <tr>\n",
       "      <th>2</th>\n",
       "      <td>monde DIVERT</td>\n",
       "      <td>monde TREND</td>\n",
       "      <td>monde TREND</td>\n",
       "      <td>monde TREND</td>\n",
       "      <td>monde TREND</td>\n",
       "      <td>monde TREND</td>\n",
       "      <td>culture INSPIRE</td>\n",
       "      <td>culture EDUCATE</td>\n",
       "      <td>monde TREND</td>\n",
       "      <td>culture INSPIRE</td>\n",
       "      <td>monde TREND</td>\n",
       "      <td>monde TREND</td>\n",
       "      <td>culture INSPIRE</td>\n",
       "      <td>monde TREND</td>\n",
       "      <td>suisse INSPIRE</td>\n",
       "      <td>monde DIVERT</td>\n",
       "    </tr>\n",
       "    <tr>\n",
       "      <th>3</th>\n",
       "      <td>culture EDUCATE</td>\n",
       "      <td>culture INSPIRE</td>\n",
       "      <td>sciences-tech INSPIRE</td>\n",
       "      <td>culture INSPIRE</td>\n",
       "      <td>culture INSPIRE</td>\n",
       "      <td>sciences-tech INSPIRE</td>\n",
       "      <td>sciences-tech INSPIRE</td>\n",
       "      <td>sciences-tech INSPIRE</td>\n",
       "      <td>culture INSPIRE</td>\n",
       "      <td>culture EDUCATE</td>\n",
       "      <td>culture INSPIRE</td>\n",
       "      <td>culture EDUCATE</td>\n",
       "      <td>sciences-tech TREND</td>\n",
       "      <td>culture EDUCATE</td>\n",
       "      <td>culture EDUCATE</td>\n",
       "      <td>culture EDUCATE</td>\n",
       "    </tr>\n",
       "  </tbody>\n",
       "</table>\n",
       "</div>"
      ],
      "text/plain": [
       "                 0                      1                      2  \\\n",
       "0  culture INSPIRE  sciences-tech INSPIRE        culture INSPIRE   \n",
       "1   suisse INSPIRE           monde DIVERT        culture EDUCATE   \n",
       "2     monde DIVERT            monde TREND            monde TREND   \n",
       "3  culture EDUCATE        culture INSPIRE  sciences-tech INSPIRE   \n",
       "\n",
       "                 3                    4                      5  \\\n",
       "0   economie TREND  sciences-tech TREND   sciences-tech DIVERT   \n",
       "1     monde DIVERT         monde DIVERT           monde DIVERT   \n",
       "2      monde TREND          monde TREND            monde TREND   \n",
       "3  culture INSPIRE      culture INSPIRE  sciences-tech INSPIRE   \n",
       "\n",
       "                       6                      7                8  \\\n",
       "0           monde DIVERT          suisse DIVERT  culture EDUCATE   \n",
       "1            monde TREND           monde DIVERT     monde DIVERT   \n",
       "2        culture INSPIRE        culture EDUCATE      monde TREND   \n",
       "3  sciences-tech INSPIRE  sciences-tech INSPIRE  culture INSPIRE   \n",
       "\n",
       "                 9               10               11                   12  \\\n",
       "0      monde TREND    monde INSPIRE    culture TREND         monde DIVERT   \n",
       "1     monde DIVERT     monde DIVERT     monde DIVERT          monde TREND   \n",
       "2  culture INSPIRE      monde TREND      monde TREND      culture INSPIRE   \n",
       "3  culture EDUCATE  culture INSPIRE  culture EDUCATE  sciences-tech TREND   \n",
       "\n",
       "                13               14                15  \n",
       "0  culture INSPIRE     sport UPDATE   culture INSPIRE  \n",
       "1     monde DIVERT  culture INSPIRE  economie INSPIRE  \n",
       "2      monde TREND   suisse INSPIRE      monde DIVERT  \n",
       "3  culture EDUCATE  culture EDUCATE   culture EDUCATE  "
      ]
     },
     "execution_count": 13,
     "metadata": {},
     "output_type": "execute_result"
    }
   ],
   "source": [
    "filtered_df"
   ]
  },
  {
   "cell_type": "code",
   "execution_count": 14,
   "metadata": {},
   "outputs": [],
   "source": [
    "df5 = pd.DataFrame(dict([(k, pd.Series(v[:4])) for k, v in data.items()]))\n",
    "df5_transposed = df5.transpose()\n",
    "\n",
    "latex_table = df5_transposed.to_latex(header=False, index=True)"
   ]
  },
  {
   "cell_type": "code",
   "execution_count": 15,
   "metadata": {},
   "outputs": [],
   "source": [
    "with open('community_features_table.tex', 'w') as tex_file:\n",
    "    tex_file.write(latex_table)"
   ]
  },
  {
   "cell_type": "code",
   "execution_count": 34,
   "metadata": {},
   "outputs": [],
   "source": [
    "def extract_combinations_for_communities(leiden_membership, df_rts_temp, user_ip_encoder, combination_encoder):\n",
    "    communities_combinations = {}\n",
    "    leiden_membership = pd.Series(leiden_membership)\n",
    "    \n",
    "    for community_id in set(leiden_membership):\n",
    "        # Find the users in this community\n",
    "        community_nodes = df_rts_temp[df_rts_temp['User_IP_Code'].isin(leiden_membership[leiden_membership == community_id].index)]['User_IP_Code']\n",
    "        \n",
    "        community_combinations = df_rts_temp[df_rts_temp['User_IP_Code'].isin(community_nodes)][['Combination_Code', 'Connections']]\n",
    "    \n",
    "    # Sum the connections for each combination\n",
    "        summed_combinations = community_combinations.groupby('Combination_Code')['Connections'].sum().reset_index()\n",
    "    \n",
    "    # Sort by summed connections and get the top 4 combinations\n",
    "        top_combinations = summed_combinations.sort_values(by='Connections', ascending=False)['Combination_Code']\n",
    "    \n",
    "    # Decode combinations\n",
    "        original_combinations_in_community = reverse_label_encoding(top_combinations, combination_encoder)\n",
    "    \n",
    "    # Save the top 4 combinations for this community\n",
    "        communities_combinations[community_id] = original_combinations_in_community.tolist()\n",
    "\n",
    "    output_file = 'Community_all_features.json'\n",
    "    with open(output_file, 'w') as f:\n",
    "        json.dump(communities_combinations, f,indent = 4)\n",
    "    print(f\"All combinations for each community saved to {output_file}\")\n",
    "    \n",
    "    return communities_combinations"
   ]
  },
  {
   "cell_type": "code",
   "execution_count": 43,
   "metadata": {},
   "outputs": [
    {
     "name": "stdout",
     "output_type": "stream",
     "text": [
      "Lecture du CSV...\n",
      "Combination\n",
      "monde UPDATE              18902\n",
      "suisse UPDATE             18861\n",
      "monde ANALYSIS            18607\n",
      "suisse ANALYSIS           18598\n",
      "economie UPDATE           17720\n",
      "sciences-tech ANALYSIS    17309\n",
      "sciences-tech UPDATE      16938\n",
      "economie ANALYSIS         16843\n",
      "culture UPDATE            16447\n",
      "sciences-tech EDUCATE     15039\n",
      "culture DIVERT            14817\n",
      "monde EDUCATE             14761\n",
      "suisse EDUCATE            13699\n",
      "economie EDUCATE          10760\n",
      "suisse TREND              10295\n",
      "culture ANALYSIS           8639\n",
      "monde DIVERT               6875\n",
      "monde TREND                6196\n",
      "culture INSPIRE            5750\n",
      "culture EDUCATE            4941\n",
      "sciences-tech INSPIRE      4537\n",
      "sciences-tech TREND        3256\n",
      "suisse DIVERT              3186\n",
      "suisse INSPIRE             2749\n",
      "monde INSPIRE              2379\n",
      "economie TREND             2083\n",
      "sciences-tech DIVERT       1898\n",
      "culture TREND              1507\n",
      "sport UPDATE                319\n",
      "sport INSPIRE                48\n",
      "economie INSPIRE             20\n",
      "sport ANALYSIS               13\n",
      "sport DIVERT                  9\n",
      "sport EDUCATE                 6\n",
      "environnement EDUCATE         2\n",
      "sport TREND                   1\n",
      "Name: count, dtype: int64\n",
      "Index([], dtype='object', name='Combination')\n",
      "Nombre de User_IPs uniques: 18925\n",
      "Nombre de Combination uniques: 36\n",
      "Lecture du CSV terminée en 7.45 secondes.\n",
      "Loading Leiden communities from file...\n",
      "Leiden communities: 16\n",
      "All combinations for each community saved to Community_all_features.json\n"
     ]
    }
   ],
   "source": [
    "df_rts, ips, combos, user_ip_encoder, combination_encoder,_ = read_csv_and_return_variables(100000)\n",
    "print(\"Loading Leiden communities from file...\")\n",
    "leiden_partition = pd.read_csv('Community_detection/leiden_communities.csv')\n",
    "leiden_membership = leiden_partition['community_id'].values\n",
    "print(f\"Leiden communities: {len(set(leiden_membership))}\")\n",
    "    \n",
    "    # Extract combinations for each community\n",
    "communities_combinations = extract_combinations_for_communities(leiden_membership, df_rts, user_ip_encoder, combination_encoder)\n"
   ]
  },
  {
   "cell_type": "code",
   "execution_count": 44,
   "metadata": {},
   "outputs": [],
   "source": [
    "file_path = 'Community_all_features.json'\n",
    "\n",
    "with open(file_path, 'r') as file:\n",
    "    data = json.load(file)"
   ]
  },
  {
   "cell_type": "code",
   "execution_count": 41,
   "metadata": {},
   "outputs": [],
   "source": [
    "def find_lowest_index_analysis(data):\n",
    "    first_occurrences = {}\n",
    "\n",
    "    for key, values in data.items():\n",
    "        for index, value in enumerate(values):\n",
    "            if \"ANALYSIS\" in value:\n",
    "                topic = value.split()[0]  # Extract the topic (first word)\n",
    "                \n",
    "                # Check if this topic has been found before or if the index is lower\n",
    "                if topic not in first_occurrences or index < first_occurrences[topic]['index']:\n",
    "                    first_occurrences[topic] = {\n",
    "                        'community': key,  # Store the community (element key)\n",
    "                        'index': index,  # Store the index of the occurrence\n",
    "                        'topic_analysis': value  # Store the \"topic ANALYSIS\" string\n",
    "                    }\n",
    "    \n",
    "    return first_occurrences"
   ]
  },
  {
   "cell_type": "code",
   "execution_count": 46,
   "metadata": {},
   "outputs": [
    {
     "name": "stdout",
     "output_type": "stream",
     "text": [
      "First occurrence of 'monde ANALYSIS' is in community 0 at index 2\n",
      "First occurrence of 'suisse ANALYSIS' is in community 15 at index 2\n",
      "First occurrence of 'sciences-tech ANALYSIS' is in community 4 at index 5\n",
      "First occurrence of 'economie ANALYSIS' is in community 15 at index 5\n",
      "First occurrence of 'culture ANALYSIS' is in community 0 at index 15\n",
      "First occurrence of 'sport ANALYSIS' is in community 10 at index 29\n"
     ]
    }
   ],
   "source": [
    "lowest_index_communities = find_lowest_index_analysis(data)\n",
    "\n",
    "# Output the results\n",
    "for topic, info in lowest_index_communities.items():\n",
    "    print(f\"First occurrence of '{info['topic_analysis']}' is in community {info['community']} at index {info['index']}\")"
   ]
  }
 ],
 "metadata": {
  "kernelspec": {
   "display_name": "Python 3",
   "language": "python",
   "name": "python3"
  },
  "language_info": {
   "codemirror_mode": {
    "name": "ipython",
    "version": 3
   },
   "file_extension": ".py",
   "mimetype": "text/x-python",
   "name": "python",
   "nbconvert_exporter": "python",
   "pygments_lexer": "ipython3",
   "version": "3.11.4"
  }
 },
 "nbformat": 4,
 "nbformat_minor": 2
}
